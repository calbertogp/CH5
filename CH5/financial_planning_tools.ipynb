{
 "cells": [
  {
   "cell_type": "markdown",
   "metadata": {},
   "source": [
    "# Financial Planning with APIs and Simulations\n",
    "\n",
    "In this Challenge, you’ll create two financial analysis tools by using a single Jupyter notebook:\n",
    "\n",
    "Part 1: A financial planner for emergencies. The members will be able to use this tool to visualize their current savings. The members can then determine if they have enough reserves for an emergency fund.\n",
    "\n",
    "Part 2: A financial planner for retirement. This tool will forecast the performance of their retirement portfolio in 30 years. To do this, the tool will make an Alpaca API call via the Alpaca SDK to get historical price data for use in Monte Carlo simulations.\n",
    "\n",
    "You’ll use the information from the Monte Carlo simulation to answer questions about the portfolio in your Jupyter notebook.\n",
    "\n"
   ]
  },
  {
   "cell_type": "code",
   "execution_count": 1,
   "metadata": {},
   "outputs": [],
   "source": [
    "# Import the required libraries and dependencies\n",
    "import os\n",
    "import requests\n",
    "import json\n",
    "import pandas as pd\n",
    "from dotenv import load_dotenv\n",
    "import alpaca_trade_api as tradeapi\n",
    "from MCForecastTools import MCSimulation\n",
    "\n",
    "%matplotlib inline"
   ]
  },
  {
   "cell_type": "code",
   "execution_count": 4,
   "metadata": {},
   "outputs": [
    {
     "data": {
      "text/plain": [
       "True"
      ]
     },
     "execution_count": 4,
     "metadata": {},
     "output_type": "execute_result"
    }
   ],
   "source": [
    "# Load the environment variables from the .env file\n",
    "#by calling the load_dotenv function\n",
    "load_dotenv(\".env\")"
   ]
  },
  {
   "cell_type": "markdown",
   "metadata": {},
   "source": [
    "## Part 1: Create a Financial Planner for Emergencies"
   ]
  },
  {
   "cell_type": "markdown",
   "metadata": {},
   "source": [
    "### Evaluate the Cryptocurrency Wallet by Using the Requests Library\n",
    "\n",
    "In this section, you’ll determine the current value of a member’s cryptocurrency wallet. You’ll collect the current prices for the Bitcoin and Ethereum cryptocurrencies by using the Python Requests library. For the prototype, you’ll assume that the member holds the 1.2 Bitcoins (BTC) and 5.3 Ethereum coins (ETH). To do all this, complete the following steps:\n",
    "\n",
    "1. Create a variable named `monthly_income`, and set its value to `12000`.\n",
    "\n",
    "2. Use the Requests library to get the current price (in US dollars) of Bitcoin (BTC) and Ethereum (ETH) by using the API endpoints that the starter code supplies.\n",
    "\n",
    "3. Navigate the JSON response object to access the current price of each coin, and store each in a variable.\n",
    "\n",
    "    > **Hint** Note the specific identifier for each cryptocurrency in the API JSON response. The Bitcoin identifier is `1`, and the Ethereum identifier is `1027`.\n",
    "\n",
    "4. Calculate the value, in US dollars, of the current amount of each cryptocurrency and of the entire cryptocurrency wallet.\n",
    "\n"
   ]
  },
  {
   "cell_type": "code",
   "execution_count": 5,
   "metadata": {},
   "outputs": [],
   "source": [
    "# The current number of coins for each cryptocurrency asset held in the portfolio.\n",
    "btc_coins = 1.2\n",
    "eth_coins = 5.3"
   ]
  },
  {
   "cell_type": "markdown",
   "metadata": {},
   "source": [
    "#### Step 1: Create a variable named `monthly_income`, and set its value to `12000`."
   ]
  },
  {
   "cell_type": "code",
   "execution_count": 6,
   "metadata": {},
   "outputs": [],
   "source": [
    "# The monthly amount for the member's household income\n",
    "monthly_income = 12000\n"
   ]
  },
  {
   "cell_type": "markdown",
   "metadata": {},
   "source": [
    "#### Review the endpoint URLs for the API calls to Free Crypto API in order to get the current pricing information for both BTC and ETH."
   ]
  },
  {
   "cell_type": "code",
   "execution_count": 7,
   "metadata": {},
   "outputs": [],
   "source": [
    "# The Free Crypto API Call endpoint URLs for the held cryptocurrency assets\n",
    "btc_url = \"https://api.alternative.me/v2/ticker/Bitcoin/?convert=USD\"\n",
    "eth_url = \"https://api.alternative.me/v2/ticker/Ethereum/?convert=USD\""
   ]
  },
  {
   "cell_type": "markdown",
   "metadata": {},
   "source": [
    "#### Step 2. Use the Requests library to get the current price (in US dollars) of Bitcoin (BTC) and Ethereum (ETH) by using the API endpoints that the starter code supplied."
   ]
  },
  {
   "cell_type": "code",
   "execution_count": 8,
   "metadata": {},
   "outputs": [
    {
     "name": "stdout",
     "output_type": "stream",
     "text": [
      "{\n",
      "    \"data\": {\n",
      "        \"1\": {\n",
      "            \"circulating_supply\": 19027800,\n",
      "            \"id\": 1,\n",
      "            \"last_updated\": 1651430643,\n",
      "            \"max_supply\": 21000000,\n",
      "            \"name\": \"Bitcoin\",\n",
      "            \"quotes\": {\n",
      "                \"USD\": {\n",
      "                    \"market_cap\": 728218283802,\n",
      "                    \"percent_change_1h\": -0.631796296555025,\n",
      "                    \"percent_change_24h\": -0.222220625824125,\n",
      "                    \"percent_change_7d\": -3.28366476468911,\n",
      "                    \"percentage_change_1h\": -0.631796296555025,\n",
      "                    \"percentage_change_24h\": -0.222220625824125,\n",
      "                    \"percentage_change_7d\": -3.28366476468911,\n",
      "                    \"price\": 38263.0,\n",
      "                    \"volume_24h\": 23954795423\n",
      "                }\n",
      "            },\n",
      "            \"rank\": 1,\n",
      "            \"symbol\": \"BTC\",\n",
      "            \"total_supply\": 19027800,\n",
      "            \"website_slug\": \"bitcoin\"\n",
      "        }\n",
      "    },\n",
      "    \"metadata\": {\n",
      "        \"error\": null,\n",
      "        \"num_cryptocurrencies\": 3106,\n",
      "        \"timestamp\": 1651430643\n",
      "    }\n",
      "}\n"
     ]
    }
   ],
   "source": [
    "# Using the Python requests library, make an API call to access the current price of BTC\n",
    "btc_response = requests.get(\"https://api.alternative.me/v2/ticker/Bitcoin/?convert=USD\").json()\n",
    "\n",
    "\n",
    "# Display the response data\n",
    "print(json.dumps(btc_response, indent=4, sort_keys=True))\n",
    "\n"
   ]
  },
  {
   "cell_type": "code",
   "execution_count": 9,
   "metadata": {},
   "outputs": [
    {
     "name": "stdout",
     "output_type": "stream",
     "text": [
      "{\n",
      "    \"data\": {\n",
      "        \"1027\": {\n",
      "            \"circulating_supply\": 120605907,\n",
      "            \"id\": 1027,\n",
      "            \"last_updated\": 1651430577,\n",
      "            \"max_supply\": 0,\n",
      "            \"name\": \"Ethereum\",\n",
      "            \"quotes\": {\n",
      "                \"USD\": {\n",
      "                    \"market_cap\": 337397486374,\n",
      "                    \"percent_change_1h\": -0.598872660438186,\n",
      "                    \"percent_change_24h\": 0.100069070712803,\n",
      "                    \"percent_change_7d\": -4.96485581896126,\n",
      "                    \"percentage_change_1h\": -0.598872660438186,\n",
      "                    \"percentage_change_24h\": 0.100069070712803,\n",
      "                    \"percentage_change_7d\": -4.96485581896126,\n",
      "                    \"price\": 2794.69,\n",
      "                    \"volume_24h\": 14504150780\n",
      "                }\n",
      "            },\n",
      "            \"rank\": 2,\n",
      "            \"symbol\": \"ETH\",\n",
      "            \"total_supply\": 120605907,\n",
      "            \"website_slug\": \"ethereum\"\n",
      "        }\n",
      "    },\n",
      "    \"metadata\": {\n",
      "        \"error\": null,\n",
      "        \"num_cryptocurrencies\": 3106,\n",
      "        \"timestamp\": 1651430577\n",
      "    }\n",
      "}\n"
     ]
    }
   ],
   "source": [
    "# Using the Python requests library, make an API call to access the current price ETH\n",
    "eth_response = requests.get(\"https://api.alternative.me/v2/ticker/Ethereum/?convert=USD\").json()\n",
    "\n",
    "# Use the json.dumps function to review the response data from the API call\n",
    "# Use the indent and sort_keys parameters to make the response object readable\n",
    "# YOUR CODE HERE\n",
    "print(json.dumps(eth_response, indent=4, sort_keys=True))"
   ]
  },
  {
   "cell_type": "markdown",
   "metadata": {},
   "source": [
    "#### Step 3: Navigate the JSON response object to access the current price of each coin, and store each in a variable."
   ]
  },
  {
   "cell_type": "code",
   "execution_count": 11,
   "metadata": {},
   "outputs": [
    {
     "name": "stdout",
     "output_type": "stream",
     "text": [
      "38263.0\n"
     ]
    }
   ],
   "source": [
    "# Navigate the BTC response object to access the current price of BTC\n",
    "btc_price = btc_response[\"data\"][\"1\"][\"quotes\"][\"USD\"][\"price\"]\n",
    "\n",
    "print (btc_price)\n",
    "\n",
    "\n"
   ]
  },
  {
   "cell_type": "code",
   "execution_count": 12,
   "metadata": {},
   "outputs": [
    {
     "name": "stdout",
     "output_type": "stream",
     "text": [
      "2794.69\n"
     ]
    }
   ],
   "source": [
    "# Navigate the BTC response object to access the current price of ETH\n",
    "eth_price = eth_response[\"data\"][\"1027\"][\"quotes\"][\"USD\"][\"price\"]\n",
    "\n",
    "print (eth_price)\n",
    "\n",
    "\n"
   ]
  },
  {
   "cell_type": "markdown",
   "metadata": {},
   "source": [
    "### Step 4: Calculate the value, in US dollars, of the current amount of each cryptocurrency and of the entire cryptocurrency wallet."
   ]
  },
  {
   "cell_type": "code",
   "execution_count": 13,
   "metadata": {},
   "outputs": [
    {
     "name": "stdout",
     "output_type": "stream",
     "text": [
      "45915.6\n"
     ]
    }
   ],
   "source": [
    "# Compute the current value of the BTC holding \n",
    "btc_value = btc_price * btc_coins\n",
    "print (btc_value)\n",
    "\n",
    "# Print current value of your holding in BTC\n",
    "# YOUR CODE HERE\n"
   ]
  },
  {
   "cell_type": "code",
   "execution_count": 14,
   "metadata": {},
   "outputs": [
    {
     "name": "stdout",
     "output_type": "stream",
     "text": [
      "14811.857\n"
     ]
    }
   ],
   "source": [
    "# Compute the current value of the ETH holding \n",
    "eth_value = eth_price * eth_coins\n",
    "print (eth_value)\n",
    "\n",
    "# Print current value of your holding in ETH\n",
    "# YOUR CODE HERE\n"
   ]
  },
  {
   "cell_type": "code",
   "execution_count": 15,
   "metadata": {},
   "outputs": [
    {
     "name": "stdout",
     "output_type": "stream",
     "text": [
      "60727.456999999995\n"
     ]
    }
   ],
   "source": [
    "# Compute the total value of the cryptocurrency wallet\n",
    "# Add the value of the BTC holding to the value of the ETH holding\n",
    "total_crypto_wallet = btc_value + eth_value\n",
    "\n",
    "# Print current cryptocurrency wallet balance\n",
    "print (total_crypto_wallet)\n"
   ]
  },
  {
   "cell_type": "markdown",
   "metadata": {},
   "source": [
    "### Evaluate the Stock and Bond Holdings by Using the Alpaca SDK\n",
    "\n",
    "In this section, you’ll determine the current value of a member’s stock and bond holdings. You’ll make an API call to Alpaca via the Alpaca SDK to get the current closing prices of the SPDR S&P 500 ETF Trust (ticker: SPY) and of the iShares Core US Aggregate Bond ETF (ticker: AGG). For the prototype, assume that the member holds 110 shares of SPY, which represents the stock portion of their portfolio, and 200 shares of AGG, which represents the bond portion. To do all this, complete the following steps:\n",
    "\n",
    "1. In the `Starter_Code` folder, create an environment file (`.env`) to store the values of your Alpaca API key and Alpaca secret key.\n",
    "\n",
    "2. Set the variables for the Alpaca API and secret keys. Using the Alpaca SDK, create the Alpaca `tradeapi.REST` object. In this object, include the parameters for the Alpaca API key, the secret key, and the version number.\n",
    "\n",
    "3. Set the following parameters for the Alpaca API call:\n",
    "\n",
    "    - `tickers`: Use the tickers for the member’s stock and bond holdings.\n",
    "\n",
    "    - `timeframe`: Use a time frame of one day.\n",
    "\n",
    "    - `start_date` and `end_date`: Use the same date for these parameters, and format them with the date of the previous weekday (or `2020-08-07`). This is because you want the one closing price for the most-recent trading day.\n",
    "\n",
    "4. Get the current closing prices for `SPY` and `AGG` by using the Alpaca `get_bars` function. Format the response as a Pandas DataFrame by including the `df` property at the end of the `get_bars` function.\n",
    "\n",
    "5. Navigating the Alpaca response DataFrame, select the `SPY` and `AGG` closing prices, and store them as variables.\n",
    "\n",
    "6. Calculate the value, in US dollars, of the current amount of shares in each of the stock and bond portions of the portfolio, and print the results.\n"
   ]
  },
  {
   "cell_type": "markdown",
   "metadata": {},
   "source": [
    "#### Review the total number of shares held in both (SPY) and (AGG)."
   ]
  },
  {
   "cell_type": "code",
   "execution_count": 16,
   "metadata": {},
   "outputs": [],
   "source": [
    "# Current amount of shares held in both the stock (SPY) and bond (AGG) portion of the portfolio.\n",
    "spy_shares = 110\n",
    "agg_shares = 200\n"
   ]
  },
  {
   "cell_type": "markdown",
   "metadata": {},
   "source": [
    "#### Step 1: In the `Starter_Code` folder, create an environment file (`.env`) to store the values of your Alpaca API key and Alpaca secret key."
   ]
  },
  {
   "cell_type": "markdown",
   "metadata": {},
   "source": [
    "#### Step 2: Set the variables for the Alpaca API and secret keys. Using the Alpaca SDK, create the Alpaca `tradeapi.REST` object. In this object, include the parameters for the Alpaca API key, the secret key, and the version number."
   ]
  },
  {
   "cell_type": "code",
   "execution_count": 17,
   "metadata": {},
   "outputs": [],
   "source": [
    "# Set the variables for the Alpaca API and secret keys\n",
    "# YOUR CODE HERE\n",
    "# YOUR CODE HERE\n",
    "alpaca_api_key = os.getenv(\"ALPACA_API_KEY\")\n",
    "alpaca_secret_key = os.getenv(\"ALPACA_SECRET_KEY\")\n",
    "\n",
    "# Create the Alpaca tradeapi.REST object\n",
    "\n",
    "alpaca = tradeapi.REST(\n",
    "    alpaca_api_key,\n",
    "    alpaca_secret_key,\n",
    "    api_version=\"v2\"\n",
    ")\n",
    "\n"
   ]
  },
  {
   "cell_type": "code",
   "execution_count": 18,
   "metadata": {},
   "outputs": [
    {
     "data": {
      "text/plain": [
       "'AKXJ5V3433MAJA11HIIK'"
      ]
     },
     "execution_count": 18,
     "metadata": {},
     "output_type": "execute_result"
    }
   ],
   "source": []
  },
  {
   "cell_type": "markdown",
   "metadata": {},
   "source": [
    "#### Step 3: Set the following parameters for the Alpaca API call:\n",
    "\n",
    "- `tickers`: Use the tickers for the member’s stock and bond holdings.\n",
    "\n",
    "- `timeframe`: Use a time frame of one day.\n",
    "\n",
    "- `start_date` and `end_date`: Use the same date for these parameters, and format them with the date of the previous weekday (or `2020-08-07`). This is because you want the one closing price for the most-recent trading day.\n"
   ]
  },
  {
   "cell_type": "code",
   "execution_count": 19,
   "metadata": {},
   "outputs": [],
   "source": [
    "# Set the tickers for both the bond and stock portion of the portfolio\n",
    "tickers = ['SPY', 'AGG']\n",
    "\n",
    "# Set timeframe to 1Day\n",
    "timeframe = \"1D\"\n",
    "\n",
    "# Alternatively you can use a start and end date of 2020-08-07\n",
    "# Format current date as ISO format\n",
    "\n",
    "start_date = pd.Timestamp(\"2022-04-29\", tz=\"America/New_York\").isoformat()\n",
    "end_date = pd.Timestamp(\"2022-04-29\", tz=\"America/New_York\").isoformat()\n",
    "\n",
    "\n",
    "\n",
    "\n"
   ]
  },
  {
   "cell_type": "markdown",
   "metadata": {},
   "source": [
    "#### Step 4: Get the current closing prices for `SPY` and `AGG` by using the Alpaca `get_bars` function. Format the response as a Pandas DataFrame by including the `df` property at the end of the `get_bars` function."
   ]
  },
  {
   "cell_type": "code",
   "execution_count": 20,
   "metadata": {
    "scrolled": true
   },
   "outputs": [
    {
     "data": {
      "text/html": [
       "<div>\n",
       "<style scoped>\n",
       "    .dataframe tbody tr th:only-of-type {\n",
       "        vertical-align: middle;\n",
       "    }\n",
       "\n",
       "    .dataframe tbody tr th {\n",
       "        vertical-align: top;\n",
       "    }\n",
       "\n",
       "    .dataframe thead tr th {\n",
       "        text-align: left;\n",
       "    }\n",
       "\n",
       "    .dataframe thead tr:last-of-type th {\n",
       "        text-align: right;\n",
       "    }\n",
       "</style>\n",
       "<table border=\"1\" class=\"dataframe\">\n",
       "  <thead>\n",
       "    <tr>\n",
       "      <th></th>\n",
       "      <th colspan=\"7\" halign=\"left\">SPY</th>\n",
       "      <th colspan=\"7\" halign=\"left\">AGG</th>\n",
       "    </tr>\n",
       "    <tr>\n",
       "      <th></th>\n",
       "      <th>open</th>\n",
       "      <th>high</th>\n",
       "      <th>low</th>\n",
       "      <th>close</th>\n",
       "      <th>volume</th>\n",
       "      <th>trade_count</th>\n",
       "      <th>vwap</th>\n",
       "      <th>open</th>\n",
       "      <th>high</th>\n",
       "      <th>low</th>\n",
       "      <th>close</th>\n",
       "      <th>volume</th>\n",
       "      <th>trade_count</th>\n",
       "      <th>vwap</th>\n",
       "    </tr>\n",
       "    <tr>\n",
       "      <th>timestamp</th>\n",
       "      <th></th>\n",
       "      <th></th>\n",
       "      <th></th>\n",
       "      <th></th>\n",
       "      <th></th>\n",
       "      <th></th>\n",
       "      <th></th>\n",
       "      <th></th>\n",
       "      <th></th>\n",
       "      <th></th>\n",
       "      <th></th>\n",
       "      <th></th>\n",
       "      <th></th>\n",
       "      <th></th>\n",
       "    </tr>\n",
       "  </thead>\n",
       "  <tbody>\n",
       "    <tr>\n",
       "      <th>2022-04-29 04:00:00+00:00</th>\n",
       "      <td>423.56</td>\n",
       "      <td>425.87</td>\n",
       "      <td>411.21</td>\n",
       "      <td>412.0</td>\n",
       "      <td>145242451</td>\n",
       "      <td>1143618</td>\n",
       "      <td>416.879474</td>\n",
       "      <td>102.92</td>\n",
       "      <td>103.27</td>\n",
       "      <td>102.82</td>\n",
       "      <td>102.87</td>\n",
       "      <td>9922012</td>\n",
       "      <td>33928</td>\n",
       "      <td>103.00342</td>\n",
       "    </tr>\n",
       "  </tbody>\n",
       "</table>\n",
       "</div>"
      ],
      "text/plain": [
       "                              SPY                                    \\\n",
       "                             open    high     low  close     volume   \n",
       "timestamp                                                             \n",
       "2022-04-29 04:00:00+00:00  423.56  425.87  411.21  412.0  145242451   \n",
       "\n",
       "                                                      AGG                  \\\n",
       "                          trade_count        vwap    open    high     low   \n",
       "timestamp                                                                   \n",
       "2022-04-29 04:00:00+00:00     1143618  416.879474  102.92  103.27  102.82   \n",
       "\n",
       "                                                                   \n",
       "                            close   volume trade_count       vwap  \n",
       "timestamp                                                          \n",
       "2022-04-29 04:00:00+00:00  102.87  9922012       33928  103.00342  "
      ]
     },
     "execution_count": 20,
     "metadata": {},
     "output_type": "execute_result"
    }
   ],
   "source": [
    "# Use the Alpaca get_bars function to get current closing prices the portfolio\n",
    "# Be sure to set the `df` property after the function to format the response object as a DataFrame\n",
    "# YOUR CODE HERE\n",
    "\n",
    "# Reorganize the DataFrame\n",
    "# Separate ticker data\n",
    "# YOUR CODE HERE\n",
    "\n",
    "# Concatenate the ticker DataFrames\n",
    "# YOUR CODE HERE\n",
    "\n",
    "# Review the first 5 rows of the Alpaca DataFrame\n",
    "# YOUR CODE HERE\n",
    "\n",
    "\n",
    "\n",
    "\n",
    "# Use the Alpaca get_bars function to get current closing prices the portfolio\n",
    "# Be sure to set the `df` property after the function to format the response object as a DataFrame\n",
    "\n",
    "cp_df = alpaca.get_bars(\n",
    "    tickers,\n",
    "    timeframe,\n",
    "    start=start_date,\n",
    "    end=end_date\n",
    ").df\n",
    "\n",
    "SPY = cp_df[cp_df['symbol']=='SPY'].drop('symbol', axis=1)\n",
    "AGG = cp_df[cp_df['symbol']=='AGG'].drop('symbol', axis=1)\n",
    "\n",
    "cp_df = pd.concat([SPY, AGG], axis=1, keys=[\"SPY\", \"AGG\"])\n",
    "\n",
    "cp_df.head()"
   ]
  },
  {
   "cell_type": "markdown",
   "metadata": {},
   "source": [
    "#### Step 5: Navigating the Alpaca response DataFrame, select the `SPY` and `AGG` closing prices, and store them as variables."
   ]
  },
  {
   "cell_type": "code",
   "execution_count": 21,
   "metadata": {},
   "outputs": [
    {
     "data": {
      "text/plain": [
       "102.87"
      ]
     },
     "execution_count": 21,
     "metadata": {},
     "output_type": "execute_result"
    }
   ],
   "source": [
    "# Access the closing price for AGG from the Alpaca DataFrame\n",
    "# Converting the value to a floating point number\n",
    "agg_close_price = cp_df[\"AGG\"][\"close\"][0]\n",
    "\n",
    "# Print the AGG closing price\n",
    "agg_close_price\n"
   ]
  },
  {
   "cell_type": "code",
   "execution_count": 22,
   "metadata": {},
   "outputs": [
    {
     "data": {
      "text/plain": [
       "412.0"
      ]
     },
     "execution_count": 22,
     "metadata": {},
     "output_type": "execute_result"
    }
   ],
   "source": [
    "# Access the closing price for SPY from the Alpaca DataFrame\n",
    "# Converting the value to a floating point number\n",
    "spy_close_price = cp_df[\"SPY\"][\"close\"][0]\n",
    "\n",
    "# Print the SPY closing price\n",
    "spy_close_price\n"
   ]
  },
  {
   "cell_type": "markdown",
   "metadata": {},
   "source": [
    "#### Step 6: Calculate the value, in US dollars, of the current amount of shares in each of the stock and bond portions of the portfolio, and print the results."
   ]
  },
  {
   "cell_type": "code",
   "execution_count": 23,
   "metadata": {},
   "outputs": [
    {
     "data": {
      "text/plain": [
       "20574.0"
      ]
     },
     "execution_count": 23,
     "metadata": {},
     "output_type": "execute_result"
    }
   ],
   "source": [
    "# Calculate the current value of the bond portion of the portfolio\n",
    "\n",
    "agg_value = agg_shares * agg_close_price\n",
    "\n",
    "\n",
    "# Print the current value of the bond portfolio\n",
    "agg_value\n"
   ]
  },
  {
   "cell_type": "code",
   "execution_count": 24,
   "metadata": {},
   "outputs": [
    {
     "data": {
      "text/plain": [
       "45320.0"
      ]
     },
     "execution_count": 24,
     "metadata": {},
     "output_type": "execute_result"
    }
   ],
   "source": [
    "# Calculate the current value of the stock portion of the portfolio\n",
    "spy_value = spy_shares * spy_close_price\n",
    "\n",
    "# Print the current value of the stock portfolio\n",
    "spy_value\n"
   ]
  },
  {
   "cell_type": "code",
   "execution_count": 25,
   "metadata": {},
   "outputs": [
    {
     "data": {
      "text/plain": [
       "65894.0"
      ]
     },
     "execution_count": 25,
     "metadata": {},
     "output_type": "execute_result"
    }
   ],
   "source": [
    "# Calculate the total value of the stock and bond portion of the portfolio\n",
    "total_stocks_bonds = agg_value + spy_value\n",
    "\n",
    "# Print the current balance of the stock and bond portion of the portfolio\n",
    "total_stocks_bonds\n"
   ]
  },
  {
   "cell_type": "code",
   "execution_count": 26,
   "metadata": {},
   "outputs": [
    {
     "data": {
      "text/plain": [
       "126621.457"
      ]
     },
     "execution_count": 26,
     "metadata": {},
     "output_type": "execute_result"
    }
   ],
   "source": [
    "# Calculate the total value of the member's entire savings portfolio\n",
    "# Add the value of the cryptocurrency walled to the value of the total stocks and bonds\n",
    "total_portfolio = total_crypto_wallet + total_stocks_bonds\n",
    "\n",
    "# Print current cryptocurrency wallet balance\n",
    "total_portfolio\n"
   ]
  },
  {
   "cell_type": "markdown",
   "metadata": {},
   "source": [
    "### Evaluate the Emergency Fund\n",
    "\n",
    "In this section, you’ll use the valuations for the cryptocurrency wallet and for the stock and bond portions of the portfolio to determine if the credit union member has enough savings to build an emergency fund into their financial plan. To do this, complete the following steps:\n",
    "\n",
    "1. Create a Python list named `savings_data` that has two elements. The first element contains the total value of the cryptocurrency wallet. The second element contains the total value of the stock and bond portions of the portfolio.\n",
    "\n",
    "2. Use the `savings_data` list to create a Pandas DataFrame named `savings_df`, and then display this DataFrame. The function to create the DataFrame should take the following three parameters:\n",
    "\n",
    "    - `savings_data`: Use the list that you just created.\n",
    "\n",
    "    - `columns`: Set this parameter equal to a Python list with a single value called `amount`.\n",
    "\n",
    "    - `index`: Set this parameter equal to a Python list with the values of `crypto` and `stock/bond`.\n",
    "\n",
    "3. Use the `savings_df` DataFrame to plot a pie chart that visualizes the composition of the member’s portfolio. The y-axis of the pie chart uses `amount`. Be sure to add a title.\n",
    "\n",
    "4. Using Python, determine if the current portfolio has enough to create an emergency fund as part of the member’s financial plan. Ideally, an emergency fund should equal to three times the member’s monthly income. To do this, implement the following steps:\n",
    "\n",
    "    1. Create a variable named `emergency_fund_value`, and set it equal to three times the value of the member’s `monthly_income` of $12000. (You set this earlier in Part 1).\n",
    "\n",
    "    2. Create a series of three if statements to determine if the member’s total portfolio is large enough to fund the emergency portfolio:\n",
    "\n",
    "        1. If the total portfolio value is greater than the emergency fund value, display a message congratulating the member for having enough money in this fund.\n",
    "\n",
    "        2. Else if the total portfolio value is equal to the emergency fund value, display a message congratulating the member on reaching this important financial goal.\n",
    "\n",
    "        3. Else the total portfolio is less than the emergency fund value, so display a message showing how many dollars away the member is from reaching the goal. (Subtract the total portfolio value from the emergency fund value.)\n"
   ]
  },
  {
   "cell_type": "markdown",
   "metadata": {},
   "source": [
    "#### Step 1: Create a Python list named `savings_data` that has two elements. The first element contains the total value of the cryptocurrency wallet. The second element contains the total value of the stock and bond portions of the portfolio."
   ]
  },
  {
   "cell_type": "code",
   "execution_count": 27,
   "metadata": {},
   "outputs": [
    {
     "data": {
      "text/plain": [
       "[60727.456999999995, 65894.0]"
      ]
     },
     "execution_count": 27,
     "metadata": {},
     "output_type": "execute_result"
    }
   ],
   "source": [
    "# Consolidate financial assets data into a Python list\n",
    "savings_data=[total_crypto_wallet, total_stocks_bonds]\n",
    "\n",
    "\n",
    "# Review the Python list savings_data\n",
    "savings_data\n",
    "    "
   ]
  },
  {
   "cell_type": "markdown",
   "metadata": {},
   "source": [
    "#### Step 2: Use the `savings_data` list to create a Pandas DataFrame named `savings_df`, and then display this DataFrame. The function to create the DataFrame should take the following three parameters:\n",
    "\n",
    "- `savings_data`: Use the list that you just created.\n",
    "\n",
    "- `columns`: Set this parameter equal to a Python list with a single value called `amount`.\n",
    "\n",
    "- `index`: Set this parameter equal to a Python list with the values of `crypto` and `stock/bond`.\n"
   ]
  },
  {
   "cell_type": "code",
   "execution_count": 28,
   "metadata": {},
   "outputs": [
    {
     "data": {
      "text/html": [
       "<div>\n",
       "<style scoped>\n",
       "    .dataframe tbody tr th:only-of-type {\n",
       "        vertical-align: middle;\n",
       "    }\n",
       "\n",
       "    .dataframe tbody tr th {\n",
       "        vertical-align: top;\n",
       "    }\n",
       "\n",
       "    .dataframe thead th {\n",
       "        text-align: right;\n",
       "    }\n",
       "</style>\n",
       "<table border=\"1\" class=\"dataframe\">\n",
       "  <thead>\n",
       "    <tr style=\"text-align: right;\">\n",
       "      <th></th>\n",
       "      <th>amount</th>\n",
       "    </tr>\n",
       "  </thead>\n",
       "  <tbody>\n",
       "    <tr>\n",
       "      <th>crypto</th>\n",
       "      <td>60727.457</td>\n",
       "    </tr>\n",
       "    <tr>\n",
       "      <th>stocks/bonds</th>\n",
       "      <td>65894.000</td>\n",
       "    </tr>\n",
       "  </tbody>\n",
       "</table>\n",
       "</div>"
      ],
      "text/plain": [
       "                 amount\n",
       "crypto        60727.457\n",
       "stocks/bonds  65894.000"
      ]
     },
     "execution_count": 28,
     "metadata": {},
     "output_type": "execute_result"
    }
   ],
   "source": [
    "# Create a Pandas DataFrame called savings_df \n",
    "savings_df = pd.DataFrame(savings_data, columns=[\"amount\"], index=['crypto', 'stocks/bonds'])\n",
    "\n",
    "\n",
    "# Display the savings_df DataFrame\n",
    "savings_df\n"
   ]
  },
  {
   "cell_type": "code",
   "execution_count": null,
   "metadata": {},
   "outputs": [],
   "source": []
  },
  {
   "cell_type": "markdown",
   "metadata": {},
   "source": [
    "#### Step 3: Use the `savings_df` DataFrame to plot a pie chart that visualizes the composition of the member’s portfolio. The y-axis of the pie chart uses `amount`. Be sure to add a title."
   ]
  },
  {
   "cell_type": "code",
   "execution_count": 29,
   "metadata": {},
   "outputs": [
    {
     "data": {
      "text/plain": [
       "<AxesSubplot:title={'center':'Portfolio Composition'}, ylabel='amount'>"
      ]
     },
     "execution_count": 29,
     "metadata": {},
     "output_type": "execute_result"
    },
    {
     "data": {
      "image/png": "[encoded data removed]",
      "text/plain": [
       "<Figure size 432x288 with 1 Axes>"
      ]
     },
     "metadata": {},
     "output_type": "display_data"
    }
   ],
   "source": [
    "# Plot the total value of the member's portfolio (crypto and stock/bond) in a pie c\n",
    "savings_df.plot.pie(y=\"amount\", title=\"Portfolio Composition\")\n",
    "\n"
   ]
  },
  {
   "cell_type": "markdown",
   "metadata": {},
   "source": [
    "#### Step 4: Using Python, determine if the current portfolio has enough to create an emergency fund as part of the member’s financial plan. Ideally, an emergency fund should equal to three times the member’s monthly income. To do this, implement the following steps:\n",
    "\n",
    "Step 1. Create a variable named `emergency_fund_value`, and set it equal to three times the value of the member’s `monthly_income` of 12000. (You set this earlier in Part 1).\n",
    "\n",
    "Step 2. Create a series of three if statements to determine if the member’s total portfolio is large enough to fund the emergency portfolio:\n",
    "\n",
    "* If the total portfolio value is greater than the emergency fund value, display a message congratulating the member for having enough money in this fund.\n",
    "\n",
    "* Else if the total portfolio value is equal to the emergency fund value, display a message congratulating the member on reaching this important financial goal.\n",
    "\n",
    "* Else the total portfolio is less than the emergency fund value, so display a message showing how many dollars away the member is from reaching the goal. (Subtract the total portfolio value from the emergency fund value.)\n"
   ]
  },
  {
   "cell_type": "markdown",
   "metadata": {},
   "source": [
    "##### Step 4-1: Create a variable named `emergency_fund_value`, and set it equal to three times the value of the member’s `monthly_income` of 12000. (You set this earlier in Part 1)."
   ]
  },
  {
   "cell_type": "code",
   "execution_count": 30,
   "metadata": {},
   "outputs": [],
   "source": [
    "# Create a variable named emergency_fund_value\n",
    "emergency_fund_value = monthly_income * 3 \n"
   ]
  },
  {
   "cell_type": "markdown",
   "metadata": {},
   "source": [
    "##### Step 4-2: Create a series of three if statements to determine if the member’s total portfolio is large enough to fund the emergency portfolio:\n",
    "\n",
    "* If the total portfolio value is greater than the emergency fund value, display a message congratulating the member for having enough money in this fund.\n",
    "\n",
    "* Else if the total portfolio value is equal to the emergency fund value, display a message congratulating the member on reaching this important financial goal.\n",
    "\n",
    "* Else the total portfolio is less than the emergency fund value, so display a message showing how many dollars away the member is from reaching the goal. (Subtract the total portfolio value from the emergency fund value.)"
   ]
  },
  {
   "cell_type": "code",
   "execution_count": 31,
   "metadata": {},
   "outputs": [
    {
     "name": "stdout",
     "output_type": "stream",
     "text": [
      "Congratulations you have enough money in this fund!\n"
     ]
    }
   ],
   "source": [
    "# Evaluate the possibility of creating an emergency fund with 3 conditions:\n",
    "# YOUR CODE HERE\n",
    "# YOUR CODE HERE\n",
    "# YOUR CODE HERE\n",
    "if total_portfolio > emergency_fund_value: \n",
    "    print(\"Congratulations you have enough money in this fund!\")\n",
    "elif total_portfolio == emergency_fund_value:\n",
    "    print(\"Nice job reaching this milestone!\")\n",
    "elif total_portfolio < emergency_fund_value: \n",
    "    print(f\"You are {emergency_fund_value-total_portfolio} away\")\n"
   ]
  },
  {
   "cell_type": "markdown",
   "metadata": {},
   "source": [
    "## Part 2: Create a Financial Planner for Retirement"
   ]
  },
  {
   "cell_type": "markdown",
   "metadata": {},
   "source": [
    "### Create the Monte Carlo Simulation\n",
    "\n",
    "In this section, you’ll use the MCForecastTools library to create a Monte Carlo simulation for the member’s savings portfolio. To do this, complete the following steps:\n",
    "\n",
    "1. Make an API call via the Alpaca SDK to get 3 years of historical closing prices for a traditional 60/40 portfolio split: 60% stocks (SPY) and 40% bonds (AGG).\n",
    "\n",
    "2. Run a Monte Carlo simulation of 500 samples and 30 years for the 60/40 portfolio, and then plot the results.The following image shows the overlay line plot resulting from a simulation with these characteristics. However, because a random number generator is used to run each live Monte Carlo simulation, your image will differ slightly from this exact image:\n",
    "\n",
    "![A screenshot depicts the resulting plot.](Images/5-4-monte-carlo-line-plot.png)\n",
    "\n",
    "3. Plot the probability distribution of the Monte Carlo simulation. Plot the probability distribution of the Monte Carlo simulation. The following image shows the histogram plot resulting from a simulation with these characteristics. However, because a random number generator is used to run each live Monte Carlo simulation, your image will differ slightly from this exact image:\n",
    "\n",
    "![A screenshot depicts the histogram plot.](Images/5-4-monte-carlo-histogram.png)\n",
    "\n",
    "4. Generate the summary statistics for the Monte Carlo simulation.\n",
    "\n"
   ]
  },
  {
   "cell_type": "markdown",
   "metadata": {},
   "source": [
    "#### Step 1: Make an API call via the Alpaca SDK to get 3 years of historical closing prices for a traditional 60/40 portfolio split: 60% stocks (SPY) and 40% bonds (AGG)."
   ]
  },
  {
   "cell_type": "code",
   "execution_count": 45,
   "metadata": {},
   "outputs": [],
   "source": [
    "# Set start and end dates of 3 years back from your current date\n",
    "# Alternatively, you can use an end date of 2020-08-07 and work 3 years back from that date \n",
    "start_date_monte = pd.Timestamp(\"2020-04-07\", tz=\"America/New_York\").isoformat()\n",
    "end_date_monte = pd.Timestamp(\"2021-04-07\", tz=\"America/New_York\").isoformat()\n",
    "# Set number of rows to 1000 to retrieve the maximum amount of rows\n",
    "limit_rows=1000\n",
    "\n"
   ]
  },
  {
   "cell_type": "code",
   "execution_count": 46,
   "metadata": {},
   "outputs": [
    {
     "data": {
      "text/html": [
       "<div>\n",
       "<style scoped>\n",
       "    .dataframe tbody tr th:only-of-type {\n",
       "        vertical-align: middle;\n",
       "    }\n",
       "\n",
       "    .dataframe tbody tr th {\n",
       "        vertical-align: top;\n",
       "    }\n",
       "\n",
       "    .dataframe thead tr th {\n",
       "        text-align: left;\n",
       "    }\n",
       "\n",
       "    .dataframe thead tr:last-of-type th {\n",
       "        text-align: right;\n",
       "    }\n",
       "</style>\n",
       "<table border=\"1\" class=\"dataframe\">\n",
       "  <thead>\n",
       "    <tr>\n",
       "      <th></th>\n",
       "      <th colspan=\"5\" halign=\"left\">AGG</th>\n",
       "      <th colspan=\"5\" halign=\"left\">SPY</th>\n",
       "    </tr>\n",
       "    <tr>\n",
       "      <th></th>\n",
       "      <th>open</th>\n",
       "      <th>high</th>\n",
       "      <th>low</th>\n",
       "      <th>close</th>\n",
       "      <th>volume</th>\n",
       "      <th>open</th>\n",
       "      <th>high</th>\n",
       "      <th>low</th>\n",
       "      <th>close</th>\n",
       "      <th>volume</th>\n",
       "    </tr>\n",
       "    <tr>\n",
       "      <th>timestamp</th>\n",
       "      <th></th>\n",
       "      <th></th>\n",
       "      <th></th>\n",
       "      <th></th>\n",
       "      <th></th>\n",
       "      <th></th>\n",
       "      <th></th>\n",
       "      <th></th>\n",
       "      <th></th>\n",
       "      <th></th>\n",
       "    </tr>\n",
       "  </thead>\n",
       "  <tbody>\n",
       "    <tr>\n",
       "      <th>2020-04-07 04:00:00+00:00</th>\n",
       "      <td>115.61</td>\n",
       "      <td>115.7400</td>\n",
       "      <td>115.3600</td>\n",
       "      <td>115.70</td>\n",
       "      <td>7743944</td>\n",
       "      <td>274.30</td>\n",
       "      <td>275.03</td>\n",
       "      <td>264.8900</td>\n",
       "      <td>265.13</td>\n",
       "      <td>201450339</td>\n",
       "    </tr>\n",
       "    <tr>\n",
       "      <th>2020-04-08 04:00:00+00:00</th>\n",
       "      <td>115.70</td>\n",
       "      <td>115.9700</td>\n",
       "      <td>115.5500</td>\n",
       "      <td>115.81</td>\n",
       "      <td>4674198</td>\n",
       "      <td>268.05</td>\n",
       "      <td>276.00</td>\n",
       "      <td>265.2542</td>\n",
       "      <td>274.03</td>\n",
       "      <td>153774685</td>\n",
       "    </tr>\n",
       "    <tr>\n",
       "      <th>2020-04-09 04:00:00+00:00</th>\n",
       "      <td>116.50</td>\n",
       "      <td>117.2500</td>\n",
       "      <td>116.1700</td>\n",
       "      <td>117.25</td>\n",
       "      <td>5584110</td>\n",
       "      <td>277.81</td>\n",
       "      <td>281.20</td>\n",
       "      <td>275.4700</td>\n",
       "      <td>278.20</td>\n",
       "      <td>190283195</td>\n",
       "    </tr>\n",
       "    <tr>\n",
       "      <th>2020-04-13 04:00:00+00:00</th>\n",
       "      <td>117.09</td>\n",
       "      <td>117.1700</td>\n",
       "      <td>116.5308</td>\n",
       "      <td>116.70</td>\n",
       "      <td>5738262</td>\n",
       "      <td>277.15</td>\n",
       "      <td>277.51</td>\n",
       "      <td>271.4100</td>\n",
       "      <td>275.66</td>\n",
       "      <td>115005853</td>\n",
       "    </tr>\n",
       "    <tr>\n",
       "      <th>2020-04-14 04:00:00+00:00</th>\n",
       "      <td>116.99</td>\n",
       "      <td>117.0000</td>\n",
       "      <td>116.5850</td>\n",
       "      <td>116.76</td>\n",
       "      <td>5506798</td>\n",
       "      <td>281.08</td>\n",
       "      <td>284.90</td>\n",
       "      <td>275.5106</td>\n",
       "      <td>283.79</td>\n",
       "      <td>134143482</td>\n",
       "    </tr>\n",
       "    <tr>\n",
       "      <th>...</th>\n",
       "      <td>...</td>\n",
       "      <td>...</td>\n",
       "      <td>...</td>\n",
       "      <td>...</td>\n",
       "      <td>...</td>\n",
       "      <td>...</td>\n",
       "      <td>...</td>\n",
       "      <td>...</td>\n",
       "      <td>...</td>\n",
       "      <td>...</td>\n",
       "    </tr>\n",
       "    <tr>\n",
       "      <th>2021-03-31 04:00:00+00:00</th>\n",
       "      <td>113.84</td>\n",
       "      <td>113.9800</td>\n",
       "      <td>113.7100</td>\n",
       "      <td>113.83</td>\n",
       "      <td>6309151</td>\n",
       "      <td>395.35</td>\n",
       "      <td>398.00</td>\n",
       "      <td>395.3100</td>\n",
       "      <td>396.33</td>\n",
       "      <td>112826049</td>\n",
       "    </tr>\n",
       "    <tr>\n",
       "      <th>2021-04-01 04:00:00+00:00</th>\n",
       "      <td>113.93</td>\n",
       "      <td>114.0500</td>\n",
       "      <td>113.8300</td>\n",
       "      <td>114.04</td>\n",
       "      <td>10766423</td>\n",
       "      <td>398.34</td>\n",
       "      <td>400.67</td>\n",
       "      <td>398.1800</td>\n",
       "      <td>400.61</td>\n",
       "      <td>99157757</td>\n",
       "    </tr>\n",
       "    <tr>\n",
       "      <th>2021-04-05 04:00:00+00:00</th>\n",
       "      <td>113.84</td>\n",
       "      <td>113.8900</td>\n",
       "      <td>113.6900</td>\n",
       "      <td>113.81</td>\n",
       "      <td>9229625</td>\n",
       "      <td>403.49</td>\n",
       "      <td>406.94</td>\n",
       "      <td>403.3800</td>\n",
       "      <td>406.36</td>\n",
       "      <td>91242966</td>\n",
       "    </tr>\n",
       "    <tr>\n",
       "      <th>2021-04-06 04:00:00+00:00</th>\n",
       "      <td>113.98</td>\n",
       "      <td>114.2200</td>\n",
       "      <td>113.9500</td>\n",
       "      <td>114.21</td>\n",
       "      <td>4859922</td>\n",
       "      <td>405.83</td>\n",
       "      <td>407.24</td>\n",
       "      <td>405.4000</td>\n",
       "      <td>406.12</td>\n",
       "      <td>61766326</td>\n",
       "    </tr>\n",
       "    <tr>\n",
       "      <th>2021-04-07 04:00:00+00:00</th>\n",
       "      <td>114.12</td>\n",
       "      <td>114.2584</td>\n",
       "      <td>114.0250</td>\n",
       "      <td>114.03</td>\n",
       "      <td>4502694</td>\n",
       "      <td>405.95</td>\n",
       "      <td>406.96</td>\n",
       "      <td>405.4500</td>\n",
       "      <td>406.59</td>\n",
       "      <td>55311029</td>\n",
       "    </tr>\n",
       "  </tbody>\n",
       "</table>\n",
       "<p>252 rows × 10 columns</p>\n",
       "</div>"
      ],
      "text/plain": [
       "                              AGG                                        \\\n",
       "                             open      high       low   close    volume   \n",
       "timestamp                                                                 \n",
       "2020-04-07 04:00:00+00:00  115.61  115.7400  115.3600  115.70   7743944   \n",
       "2020-04-08 04:00:00+00:00  115.70  115.9700  115.5500  115.81   4674198   \n",
       "2020-04-09 04:00:00+00:00  116.50  117.2500  116.1700  117.25   5584110   \n",
       "2020-04-13 04:00:00+00:00  117.09  117.1700  116.5308  116.70   5738262   \n",
       "2020-04-14 04:00:00+00:00  116.99  117.0000  116.5850  116.76   5506798   \n",
       "...                           ...       ...       ...     ...       ...   \n",
       "2021-03-31 04:00:00+00:00  113.84  113.9800  113.7100  113.83   6309151   \n",
       "2021-04-01 04:00:00+00:00  113.93  114.0500  113.8300  114.04  10766423   \n",
       "2021-04-05 04:00:00+00:00  113.84  113.8900  113.6900  113.81   9229625   \n",
       "2021-04-06 04:00:00+00:00  113.98  114.2200  113.9500  114.21   4859922   \n",
       "2021-04-07 04:00:00+00:00  114.12  114.2584  114.0250  114.03   4502694   \n",
       "\n",
       "                              SPY                                       \n",
       "                             open    high       low   close     volume  \n",
       "timestamp                                                               \n",
       "2020-04-07 04:00:00+00:00  274.30  275.03  264.8900  265.13  201450339  \n",
       "2020-04-08 04:00:00+00:00  268.05  276.00  265.2542  274.03  153774685  \n",
       "2020-04-09 04:00:00+00:00  277.81  281.20  275.4700  278.20  190283195  \n",
       "2020-04-13 04:00:00+00:00  277.15  277.51  271.4100  275.66  115005853  \n",
       "2020-04-14 04:00:00+00:00  281.08  284.90  275.5106  283.79  134143482  \n",
       "...                           ...     ...       ...     ...        ...  \n",
       "2021-03-31 04:00:00+00:00  395.35  398.00  395.3100  396.33  112826049  \n",
       "2021-04-01 04:00:00+00:00  398.34  400.67  398.1800  400.61   99157757  \n",
       "2021-04-05 04:00:00+00:00  403.49  406.94  403.3800  406.36   91242966  \n",
       "2021-04-06 04:00:00+00:00  405.83  407.24  405.4000  406.12   61766326  \n",
       "2021-04-07 04:00:00+00:00  405.95  406.96  405.4500  406.59   55311029  \n",
       "\n",
       "[252 rows x 10 columns]"
      ]
     },
     "execution_count": 46,
     "metadata": {},
     "output_type": "execute_result"
    }
   ],
   "source": [
    "# Use the Alpaca get_bars function to make the API call to get the 3 years worth of pricing data\n",
    "# The tickers and timeframe parameters should have been set in Part 1 of this activity \n",
    "# The start and end dates should be updated with the information set above\n",
    "# Remember to add the df property to the end of the call so the response is returned as a DataFrame\n",
    "# YOUR CODE HERE\n",
    "tickers = ['AGG', 'SPY']\n",
    "mc_df = alpaca.get_bars(\n",
    "    tickers,\n",
    "    timeframe,\n",
    "    start=start_date_monte,\n",
    "    end=end_date_monte,\n",
    "    limit=limit_rows\n",
    ").df\n",
    "\n",
    "mc_df.drop(['trade_count', 'vwap'], axis=1, inplace=True)\n",
    "# Reorganize the DataFrame\n",
    "# Separate ticker data\n",
    "\n",
    "\n",
    "# Concatenate the ticker DataFrames'\n",
    "AGG = mc_df[mc_df['symbol']=='AGG'].drop('symbol', axis=1)\n",
    "SPY = mc_df[mc_df['symbol']=='SPY'].drop('symbol', axis=1)\n",
    "\n",
    "\n",
    "mc_df = pd.concat([AGG, SPY], axis=1, keys=[\"AGG\", \"SPY\"])\n",
    "\n",
    "\n",
    "# Display both the first and last five rows of the DataFrame\n",
    "# YOUR CODE HERE\n",
    "\n",
    "\n",
    "mc_df\n"
   ]
  },
  {
   "cell_type": "markdown",
   "metadata": {},
   "source": [
    "#### Step 2: Run a Monte Carlo simulation of 500 samples and 30 years for the 60/40 portfolio, and then plot the results."
   ]
  },
  {
   "cell_type": "code",
   "execution_count": 47,
   "metadata": {
    "scrolled": true
   },
   "outputs": [
    {
     "data": {
      "text/html": [
       "<div>\n",
       "<style scoped>\n",
       "    .dataframe tbody tr th:only-of-type {\n",
       "        vertical-align: middle;\n",
       "    }\n",
       "\n",
       "    .dataframe tbody tr th {\n",
       "        vertical-align: top;\n",
       "    }\n",
       "\n",
       "    .dataframe thead tr th {\n",
       "        text-align: left;\n",
       "    }\n",
       "\n",
       "    .dataframe thead tr:last-of-type th {\n",
       "        text-align: right;\n",
       "    }\n",
       "</style>\n",
       "<table border=\"1\" class=\"dataframe\">\n",
       "  <thead>\n",
       "    <tr>\n",
       "      <th></th>\n",
       "      <th colspan=\"6\" halign=\"left\">AGG</th>\n",
       "      <th colspan=\"6\" halign=\"left\">SPY</th>\n",
       "    </tr>\n",
       "    <tr>\n",
       "      <th></th>\n",
       "      <th>open</th>\n",
       "      <th>high</th>\n",
       "      <th>low</th>\n",
       "      <th>close</th>\n",
       "      <th>volume</th>\n",
       "      <th>daily_return</th>\n",
       "      <th>open</th>\n",
       "      <th>high</th>\n",
       "      <th>low</th>\n",
       "      <th>close</th>\n",
       "      <th>volume</th>\n",
       "      <th>daily_return</th>\n",
       "    </tr>\n",
       "    <tr>\n",
       "      <th>timestamp</th>\n",
       "      <th></th>\n",
       "      <th></th>\n",
       "      <th></th>\n",
       "      <th></th>\n",
       "      <th></th>\n",
       "      <th></th>\n",
       "      <th></th>\n",
       "      <th></th>\n",
       "      <th></th>\n",
       "      <th></th>\n",
       "      <th></th>\n",
       "      <th></th>\n",
       "    </tr>\n",
       "  </thead>\n",
       "  <tbody>\n",
       "    <tr>\n",
       "      <th>2020-04-07 04:00:00+00:00</th>\n",
       "      <td>115.61</td>\n",
       "      <td>115.74</td>\n",
       "      <td>115.3600</td>\n",
       "      <td>115.70</td>\n",
       "      <td>7743944</td>\n",
       "      <td>NaN</td>\n",
       "      <td>274.30</td>\n",
       "      <td>275.03</td>\n",
       "      <td>264.8900</td>\n",
       "      <td>265.13</td>\n",
       "      <td>201450339</td>\n",
       "      <td>NaN</td>\n",
       "    </tr>\n",
       "    <tr>\n",
       "      <th>2020-04-08 04:00:00+00:00</th>\n",
       "      <td>115.70</td>\n",
       "      <td>115.97</td>\n",
       "      <td>115.5500</td>\n",
       "      <td>115.81</td>\n",
       "      <td>4674198</td>\n",
       "      <td>0.000951</td>\n",
       "      <td>268.05</td>\n",
       "      <td>276.00</td>\n",
       "      <td>265.2542</td>\n",
       "      <td>274.03</td>\n",
       "      <td>153774685</td>\n",
       "      <td>0.033568</td>\n",
       "    </tr>\n",
       "    <tr>\n",
       "      <th>2020-04-09 04:00:00+00:00</th>\n",
       "      <td>116.50</td>\n",
       "      <td>117.25</td>\n",
       "      <td>116.1700</td>\n",
       "      <td>117.25</td>\n",
       "      <td>5584110</td>\n",
       "      <td>0.012434</td>\n",
       "      <td>277.81</td>\n",
       "      <td>281.20</td>\n",
       "      <td>275.4700</td>\n",
       "      <td>278.20</td>\n",
       "      <td>190283195</td>\n",
       "      <td>0.015217</td>\n",
       "    </tr>\n",
       "    <tr>\n",
       "      <th>2020-04-13 04:00:00+00:00</th>\n",
       "      <td>117.09</td>\n",
       "      <td>117.17</td>\n",
       "      <td>116.5308</td>\n",
       "      <td>116.70</td>\n",
       "      <td>5738262</td>\n",
       "      <td>-0.004691</td>\n",
       "      <td>277.15</td>\n",
       "      <td>277.51</td>\n",
       "      <td>271.4100</td>\n",
       "      <td>275.66</td>\n",
       "      <td>115005853</td>\n",
       "      <td>-0.009130</td>\n",
       "    </tr>\n",
       "    <tr>\n",
       "      <th>2020-04-14 04:00:00+00:00</th>\n",
       "      <td>116.99</td>\n",
       "      <td>117.00</td>\n",
       "      <td>116.5850</td>\n",
       "      <td>116.76</td>\n",
       "      <td>5506798</td>\n",
       "      <td>0.000514</td>\n",
       "      <td>281.08</td>\n",
       "      <td>284.90</td>\n",
       "      <td>275.5106</td>\n",
       "      <td>283.79</td>\n",
       "      <td>134143482</td>\n",
       "      <td>0.029493</td>\n",
       "    </tr>\n",
       "  </tbody>\n",
       "</table>\n",
       "</div>"
      ],
      "text/plain": [
       "                              AGG                                     \\\n",
       "                             open    high       low   close   volume   \n",
       "timestamp                                                              \n",
       "2020-04-07 04:00:00+00:00  115.61  115.74  115.3600  115.70  7743944   \n",
       "2020-04-08 04:00:00+00:00  115.70  115.97  115.5500  115.81  4674198   \n",
       "2020-04-09 04:00:00+00:00  116.50  117.25  116.1700  117.25  5584110   \n",
       "2020-04-13 04:00:00+00:00  117.09  117.17  116.5308  116.70  5738262   \n",
       "2020-04-14 04:00:00+00:00  116.99  117.00  116.5850  116.76  5506798   \n",
       "\n",
       "                                           SPY                            \\\n",
       "                          daily_return    open    high       low   close   \n",
       "timestamp                                                                  \n",
       "2020-04-07 04:00:00+00:00          NaN  274.30  275.03  264.8900  265.13   \n",
       "2020-04-08 04:00:00+00:00     0.000951  268.05  276.00  265.2542  274.03   \n",
       "2020-04-09 04:00:00+00:00     0.012434  277.81  281.20  275.4700  278.20   \n",
       "2020-04-13 04:00:00+00:00    -0.004691  277.15  277.51  271.4100  275.66   \n",
       "2020-04-14 04:00:00+00:00     0.000514  281.08  284.90  275.5106  283.79   \n",
       "\n",
       "                                                   \n",
       "                              volume daily_return  \n",
       "timestamp                                          \n",
       "2020-04-07 04:00:00+00:00  201450339          NaN  \n",
       "2020-04-08 04:00:00+00:00  153774685     0.033568  \n",
       "2020-04-09 04:00:00+00:00  190283195     0.015217  \n",
       "2020-04-13 04:00:00+00:00  115005853    -0.009130  \n",
       "2020-04-14 04:00:00+00:00  134143482     0.029493  "
      ]
     },
     "execution_count": 47,
     "metadata": {},
     "output_type": "execute_result"
    }
   ],
   "source": [
    "# Configure the Monte Carlo simulation to forecast 30 years cumulative returns\n",
    "# The weights should be split 40% to AGG and 60% to SPY.\n",
    "# Run 500 samples.\n",
    "# YOUR CODE HERE\n",
    "\n",
    "MC_SPY_AGG = MCSimulation(\n",
    "    portfolio_data = mc_df,\n",
    "    weights = [.40, .60],\n",
    "    num_simulation = 500,\n",
    "    num_trading_days = 252*30\n",
    ")\n",
    "\n",
    "# Review the simulation input data\n",
    "# YOUR CODE HERE\n",
    "MC_SPY_AGG.portfolio_data.head()\n"
   ]
  },
  {
   "cell_type": "code",
   "execution_count": 51,
   "metadata": {
    "scrolled": true
   },
   "outputs": [
    {
     "name": "stdout",
     "output_type": "stream",
     "text": [
      "Running Monte Carlo simulation number 0.\n",
      "Running Monte Carlo simulation number 10.\n",
      "Running Monte Carlo simulation number 20.\n",
      "Running Monte Carlo simulation number 30.\n",
      "Running Monte Carlo simulation number 40.\n",
      "Running Monte Carlo simulation number 50.\n",
      "Running Monte Carlo simulation number 60.\n",
      "Running Monte Carlo simulation number 70.\n",
      "Running Monte Carlo simulation number 80.\n",
      "Running Monte Carlo simulation number 90.\n",
      "Running Monte Carlo simulation number 100.\n"
     ]
    },
    {
     "name": "stderr",
     "output_type": "stream",
     "text": [
      "/Users/carlosguerra/Desktop/CH5/MCForecastTools.py:117: PerformanceWarning: DataFrame is highly fragmented.  This is usually the result of calling `frame.insert` many times, which has poor performance.  Consider joining all columns at once using pd.concat(axis=1) instead.  To get a de-fragmented frame, use `newframe = frame.copy()`\n",
      "  portfolio_cumulative_returns[n] = (1 + sim_df.fillna(0)).cumprod()\n"
     ]
    },
    {
     "name": "stdout",
     "output_type": "stream",
     "text": [
      "Running Monte Carlo simulation number 110.\n",
      "Running Monte Carlo simulation number 120.\n",
      "Running Monte Carlo simulation number 130.\n",
      "Running Monte Carlo simulation number 140.\n",
      "Running Monte Carlo simulation number 150.\n",
      "Running Monte Carlo simulation number 160.\n",
      "Running Monte Carlo simulation number 170.\n",
      "Running Monte Carlo simulation number 180.\n",
      "Running Monte Carlo simulation number 190.\n",
      "Running Monte Carlo simulation number 200.\n",
      "Running Monte Carlo simulation number 210.\n",
      "Running Monte Carlo simulation number 220.\n",
      "Running Monte Carlo simulation number 230.\n",
      "Running Monte Carlo simulation number 240.\n",
      "Running Monte Carlo simulation number 250.\n",
      "Running Monte Carlo simulation number 260.\n",
      "Running Monte Carlo simulation number 270.\n",
      "Running Monte Carlo simulation number 280.\n",
      "Running Monte Carlo simulation number 290.\n",
      "Running Monte Carlo simulation number 300.\n",
      "Running Monte Carlo simulation number 310.\n",
      "Running Monte Carlo simulation number 320.\n",
      "Running Monte Carlo simulation number 330.\n",
      "Running Monte Carlo simulation number 340.\n",
      "Running Monte Carlo simulation number 350.\n",
      "Running Monte Carlo simulation number 360.\n",
      "Running Monte Carlo simulation number 370.\n",
      "Running Monte Carlo simulation number 380.\n",
      "Running Monte Carlo simulation number 390.\n",
      "Running Monte Carlo simulation number 400.\n",
      "Running Monte Carlo simulation number 410.\n",
      "Running Monte Carlo simulation number 420.\n",
      "Running Monte Carlo simulation number 430.\n",
      "Running Monte Carlo simulation number 440.\n",
      "Running Monte Carlo simulation number 450.\n",
      "Running Monte Carlo simulation number 460.\n",
      "Running Monte Carlo simulation number 470.\n",
      "Running Monte Carlo simulation number 480.\n",
      "Running Monte Carlo simulation number 490.\n"
     ]
    },
    {
     "data": {
      "text/html": [
       "<div>\n",
       "<style scoped>\n",
       "    .dataframe tbody tr th:only-of-type {\n",
       "        vertical-align: middle;\n",
       "    }\n",
       "\n",
       "    .dataframe tbody tr th {\n",
       "        vertical-align: top;\n",
       "    }\n",
       "\n",
       "    .dataframe thead th {\n",
       "        text-align: right;\n",
       "    }\n",
       "</style>\n",
       "<table border=\"1\" class=\"dataframe\">\n",
       "  <thead>\n",
       "    <tr style=\"text-align: right;\">\n",
       "      <th></th>\n",
       "      <th>0</th>\n",
       "      <th>1</th>\n",
       "      <th>2</th>\n",
       "      <th>3</th>\n",
       "      <th>4</th>\n",
       "      <th>5</th>\n",
       "      <th>6</th>\n",
       "      <th>7</th>\n",
       "      <th>8</th>\n",
       "      <th>9</th>\n",
       "      <th>...</th>\n",
       "      <th>490</th>\n",
       "      <th>491</th>\n",
       "      <th>492</th>\n",
       "      <th>493</th>\n",
       "      <th>494</th>\n",
       "      <th>495</th>\n",
       "      <th>496</th>\n",
       "      <th>497</th>\n",
       "      <th>498</th>\n",
       "      <th>499</th>\n",
       "    </tr>\n",
       "  </thead>\n",
       "  <tbody>\n",
       "    <tr>\n",
       "      <th>0</th>\n",
       "      <td>1.000000</td>\n",
       "      <td>1.000000</td>\n",
       "      <td>1.000000</td>\n",
       "      <td>1.000000</td>\n",
       "      <td>1.000000</td>\n",
       "      <td>1.000000</td>\n",
       "      <td>1.000000</td>\n",
       "      <td>1.000000</td>\n",
       "      <td>1.000000</td>\n",
       "      <td>1.000000</td>\n",
       "      <td>...</td>\n",
       "      <td>1.000000</td>\n",
       "      <td>1.000000</td>\n",
       "      <td>1.000000</td>\n",
       "      <td>1.000000</td>\n",
       "      <td>1.000000</td>\n",
       "      <td>1.000000</td>\n",
       "      <td>1.000000</td>\n",
       "      <td>1.000000</td>\n",
       "      <td>1.000000</td>\n",
       "      <td>1.000000</td>\n",
       "    </tr>\n",
       "    <tr>\n",
       "      <th>1</th>\n",
       "      <td>0.996438</td>\n",
       "      <td>1.009173</td>\n",
       "      <td>1.007745</td>\n",
       "      <td>1.017899</td>\n",
       "      <td>0.990551</td>\n",
       "      <td>1.015274</td>\n",
       "      <td>1.003541</td>\n",
       "      <td>0.999378</td>\n",
       "      <td>0.985140</td>\n",
       "      <td>0.999163</td>\n",
       "      <td>...</td>\n",
       "      <td>1.005042</td>\n",
       "      <td>0.996075</td>\n",
       "      <td>1.002541</td>\n",
       "      <td>0.992215</td>\n",
       "      <td>1.016678</td>\n",
       "      <td>1.000675</td>\n",
       "      <td>0.994790</td>\n",
       "      <td>1.001765</td>\n",
       "      <td>1.014474</td>\n",
       "      <td>1.000872</td>\n",
       "    </tr>\n",
       "    <tr>\n",
       "      <th>2</th>\n",
       "      <td>0.995097</td>\n",
       "      <td>1.002295</td>\n",
       "      <td>1.015636</td>\n",
       "      <td>1.007718</td>\n",
       "      <td>0.998232</td>\n",
       "      <td>1.027296</td>\n",
       "      <td>1.000646</td>\n",
       "      <td>1.009858</td>\n",
       "      <td>0.989850</td>\n",
       "      <td>0.999575</td>\n",
       "      <td>...</td>\n",
       "      <td>1.021548</td>\n",
       "      <td>0.999738</td>\n",
       "      <td>1.006974</td>\n",
       "      <td>0.984421</td>\n",
       "      <td>1.011830</td>\n",
       "      <td>0.985573</td>\n",
       "      <td>0.988704</td>\n",
       "      <td>1.012805</td>\n",
       "      <td>1.011035</td>\n",
       "      <td>1.007250</td>\n",
       "    </tr>\n",
       "    <tr>\n",
       "      <th>3</th>\n",
       "      <td>0.987557</td>\n",
       "      <td>1.001076</td>\n",
       "      <td>1.009561</td>\n",
       "      <td>1.009165</td>\n",
       "      <td>0.995012</td>\n",
       "      <td>1.053341</td>\n",
       "      <td>0.999811</td>\n",
       "      <td>1.019008</td>\n",
       "      <td>0.998781</td>\n",
       "      <td>1.009415</td>\n",
       "      <td>...</td>\n",
       "      <td>1.025648</td>\n",
       "      <td>1.009095</td>\n",
       "      <td>1.001354</td>\n",
       "      <td>0.989631</td>\n",
       "      <td>1.021113</td>\n",
       "      <td>0.991626</td>\n",
       "      <td>0.987639</td>\n",
       "      <td>1.013099</td>\n",
       "      <td>1.013165</td>\n",
       "      <td>0.998511</td>\n",
       "    </tr>\n",
       "    <tr>\n",
       "      <th>4</th>\n",
       "      <td>0.997181</td>\n",
       "      <td>1.003660</td>\n",
       "      <td>0.993409</td>\n",
       "      <td>1.013736</td>\n",
       "      <td>0.989651</td>\n",
       "      <td>1.056242</td>\n",
       "      <td>1.003307</td>\n",
       "      <td>1.022647</td>\n",
       "      <td>0.999080</td>\n",
       "      <td>1.006401</td>\n",
       "      <td>...</td>\n",
       "      <td>1.024923</td>\n",
       "      <td>1.003468</td>\n",
       "      <td>1.006613</td>\n",
       "      <td>0.987968</td>\n",
       "      <td>1.023566</td>\n",
       "      <td>0.998351</td>\n",
       "      <td>0.986296</td>\n",
       "      <td>1.003078</td>\n",
       "      <td>1.008928</td>\n",
       "      <td>1.009386</td>\n",
       "    </tr>\n",
       "    <tr>\n",
       "      <th>...</th>\n",
       "      <td>...</td>\n",
       "      <td>...</td>\n",
       "      <td>...</td>\n",
       "      <td>...</td>\n",
       "      <td>...</td>\n",
       "      <td>...</td>\n",
       "      <td>...</td>\n",
       "      <td>...</td>\n",
       "      <td>...</td>\n",
       "      <td>...</td>\n",
       "      <td>...</td>\n",
       "      <td>...</td>\n",
       "      <td>...</td>\n",
       "      <td>...</td>\n",
       "      <td>...</td>\n",
       "      <td>...</td>\n",
       "      <td>...</td>\n",
       "      <td>...</td>\n",
       "      <td>...</td>\n",
       "      <td>...</td>\n",
       "      <td>...</td>\n",
       "    </tr>\n",
       "    <tr>\n",
       "      <th>7556</th>\n",
       "      <td>1340.969915</td>\n",
       "      <td>4621.270480</td>\n",
       "      <td>2140.770887</td>\n",
       "      <td>4610.820934</td>\n",
       "      <td>2834.505807</td>\n",
       "      <td>2406.919105</td>\n",
       "      <td>1515.181894</td>\n",
       "      <td>1479.413947</td>\n",
       "      <td>1349.961872</td>\n",
       "      <td>1991.242292</td>\n",
       "      <td>...</td>\n",
       "      <td>1206.018940</td>\n",
       "      <td>1628.265446</td>\n",
       "      <td>4000.744049</td>\n",
       "      <td>2680.676636</td>\n",
       "      <td>1237.870279</td>\n",
       "      <td>3450.837346</td>\n",
       "      <td>1704.466973</td>\n",
       "      <td>3912.833608</td>\n",
       "      <td>3964.123812</td>\n",
       "      <td>2381.234588</td>\n",
       "    </tr>\n",
       "    <tr>\n",
       "      <th>7557</th>\n",
       "      <td>1345.934208</td>\n",
       "      <td>4665.330305</td>\n",
       "      <td>2175.132873</td>\n",
       "      <td>4621.212661</td>\n",
       "      <td>2874.744475</td>\n",
       "      <td>2399.894785</td>\n",
       "      <td>1534.672268</td>\n",
       "      <td>1488.822337</td>\n",
       "      <td>1356.359952</td>\n",
       "      <td>2006.370784</td>\n",
       "      <td>...</td>\n",
       "      <td>1206.730139</td>\n",
       "      <td>1627.021627</td>\n",
       "      <td>3982.477181</td>\n",
       "      <td>2713.425742</td>\n",
       "      <td>1240.982641</td>\n",
       "      <td>3418.171737</td>\n",
       "      <td>1705.539963</td>\n",
       "      <td>3893.388319</td>\n",
       "      <td>4008.536523</td>\n",
       "      <td>2399.150542</td>\n",
       "    </tr>\n",
       "    <tr>\n",
       "      <th>7558</th>\n",
       "      <td>1334.517992</td>\n",
       "      <td>4654.526060</td>\n",
       "      <td>2182.135514</td>\n",
       "      <td>4656.424730</td>\n",
       "      <td>2854.721515</td>\n",
       "      <td>2379.440907</td>\n",
       "      <td>1532.522784</td>\n",
       "      <td>1499.435899</td>\n",
       "      <td>1343.733263</td>\n",
       "      <td>2016.245991</td>\n",
       "      <td>...</td>\n",
       "      <td>1188.789157</td>\n",
       "      <td>1608.703488</td>\n",
       "      <td>3942.925047</td>\n",
       "      <td>2698.530268</td>\n",
       "      <td>1244.084240</td>\n",
       "      <td>3421.821084</td>\n",
       "      <td>1721.197402</td>\n",
       "      <td>3879.697470</td>\n",
       "      <td>3987.728348</td>\n",
       "      <td>2383.388180</td>\n",
       "    </tr>\n",
       "    <tr>\n",
       "      <th>7559</th>\n",
       "      <td>1331.070192</td>\n",
       "      <td>4603.904745</td>\n",
       "      <td>2205.919588</td>\n",
       "      <td>4688.761231</td>\n",
       "      <td>2880.054155</td>\n",
       "      <td>2352.370819</td>\n",
       "      <td>1525.928350</td>\n",
       "      <td>1509.120232</td>\n",
       "      <td>1348.553070</td>\n",
       "      <td>2012.679118</td>\n",
       "      <td>...</td>\n",
       "      <td>1197.822754</td>\n",
       "      <td>1602.000399</td>\n",
       "      <td>3990.714229</td>\n",
       "      <td>2689.087848</td>\n",
       "      <td>1247.466947</td>\n",
       "      <td>3447.507427</td>\n",
       "      <td>1715.723250</td>\n",
       "      <td>3826.478263</td>\n",
       "      <td>3965.249522</td>\n",
       "      <td>2405.154477</td>\n",
       "    </tr>\n",
       "    <tr>\n",
       "      <th>7560</th>\n",
       "      <td>1331.164655</td>\n",
       "      <td>4605.443582</td>\n",
       "      <td>2242.041551</td>\n",
       "      <td>4753.976741</td>\n",
       "      <td>2895.754904</td>\n",
       "      <td>2342.916431</td>\n",
       "      <td>1530.924560</td>\n",
       "      <td>1530.090587</td>\n",
       "      <td>1361.257107</td>\n",
       "      <td>1997.327282</td>\n",
       "      <td>...</td>\n",
       "      <td>1195.675524</td>\n",
       "      <td>1619.980848</td>\n",
       "      <td>3969.137797</td>\n",
       "      <td>2715.238189</td>\n",
       "      <td>1256.866319</td>\n",
       "      <td>3474.465473</td>\n",
       "      <td>1714.938268</td>\n",
       "      <td>3827.328408</td>\n",
       "      <td>3995.046548</td>\n",
       "      <td>2421.464825</td>\n",
       "    </tr>\n",
       "  </tbody>\n",
       "</table>\n",
       "<p>7561 rows × 500 columns</p>\n",
       "</div>"
      ],
      "text/plain": [
       "              0            1            2            3            4    \\\n",
       "0        1.000000     1.000000     1.000000     1.000000     1.000000   \n",
       "1        0.996438     1.009173     1.007745     1.017899     0.990551   \n",
       "2        0.995097     1.002295     1.015636     1.007718     0.998232   \n",
       "3        0.987557     1.001076     1.009561     1.009165     0.995012   \n",
       "4        0.997181     1.003660     0.993409     1.013736     0.989651   \n",
       "...           ...          ...          ...          ...          ...   \n",
       "7556  1340.969915  4621.270480  2140.770887  4610.820934  2834.505807   \n",
       "7557  1345.934208  4665.330305  2175.132873  4621.212661  2874.744475   \n",
       "7558  1334.517992  4654.526060  2182.135514  4656.424730  2854.721515   \n",
       "7559  1331.070192  4603.904745  2205.919588  4688.761231  2880.054155   \n",
       "7560  1331.164655  4605.443582  2242.041551  4753.976741  2895.754904   \n",
       "\n",
       "              5            6            7            8            9    ...  \\\n",
       "0        1.000000     1.000000     1.000000     1.000000     1.000000  ...   \n",
       "1        1.015274     1.003541     0.999378     0.985140     0.999163  ...   \n",
       "2        1.027296     1.000646     1.009858     0.989850     0.999575  ...   \n",
       "3        1.053341     0.999811     1.019008     0.998781     1.009415  ...   \n",
       "4        1.056242     1.003307     1.022647     0.999080     1.006401  ...   \n",
       "...           ...          ...          ...          ...          ...  ...   \n",
       "7556  2406.919105  1515.181894  1479.413947  1349.961872  1991.242292  ...   \n",
       "7557  2399.894785  1534.672268  1488.822337  1356.359952  2006.370784  ...   \n",
       "7558  2379.440907  1532.522784  1499.435899  1343.733263  2016.245991  ...   \n",
       "7559  2352.370819  1525.928350  1509.120232  1348.553070  2012.679118  ...   \n",
       "7560  2342.916431  1530.924560  1530.090587  1361.257107  1997.327282  ...   \n",
       "\n",
       "              490          491          492          493          494  \\\n",
       "0        1.000000     1.000000     1.000000     1.000000     1.000000   \n",
       "1        1.005042     0.996075     1.002541     0.992215     1.016678   \n",
       "2        1.021548     0.999738     1.006974     0.984421     1.011830   \n",
       "3        1.025648     1.009095     1.001354     0.989631     1.021113   \n",
       "4        1.024923     1.003468     1.006613     0.987968     1.023566   \n",
       "...           ...          ...          ...          ...          ...   \n",
       "7556  1206.018940  1628.265446  4000.744049  2680.676636  1237.870279   \n",
       "7557  1206.730139  1627.021627  3982.477181  2713.425742  1240.982641   \n",
       "7558  1188.789157  1608.703488  3942.925047  2698.530268  1244.084240   \n",
       "7559  1197.822754  1602.000399  3990.714229  2689.087848  1247.466947   \n",
       "7560  1195.675524  1619.980848  3969.137797  2715.238189  1256.866319   \n",
       "\n",
       "              495          496          497          498          499  \n",
       "0        1.000000     1.000000     1.000000     1.000000     1.000000  \n",
       "1        1.000675     0.994790     1.001765     1.014474     1.000872  \n",
       "2        0.985573     0.988704     1.012805     1.011035     1.007250  \n",
       "3        0.991626     0.987639     1.013099     1.013165     0.998511  \n",
       "4        0.998351     0.986296     1.003078     1.008928     1.009386  \n",
       "...           ...          ...          ...          ...          ...  \n",
       "7556  3450.837346  1704.466973  3912.833608  3964.123812  2381.234588  \n",
       "7557  3418.171737  1705.539963  3893.388319  4008.536523  2399.150542  \n",
       "7558  3421.821084  1721.197402  3879.697470  3987.728348  2383.388180  \n",
       "7559  3447.507427  1715.723250  3826.478263  3965.249522  2405.154477  \n",
       "7560  3474.465473  1714.938268  3827.328408  3995.046548  2421.464825  \n",
       "\n",
       "[7561 rows x 500 columns]"
      ]
     },
     "execution_count": 51,
     "metadata": {},
     "output_type": "execute_result"
    }
   ],
   "source": [
    "# Run the Monte Carlo simulation to forecast 30 years cumulative returns\n",
    "# YOUR CODE HERE\n",
    "MC_SPY_AGG.calc_cumulative_return()\n"
   ]
  },
  {
   "cell_type": "code",
   "execution_count": 52,
   "metadata": {},
   "outputs": [
    {
     "data": {
      "image/png": "[encoded data removed]",
      "text/plain": [
       "<Figure size 432x288 with 1 Axes>"
      ]
     },
     "metadata": {
      "needs_background": "light"
     },
     "output_type": "display_data"
    }
   ],
   "source": [
    "# Visualize the 30-year Monte Carlo simulation by creating an\n",
    "# overlay line plot\n",
    "# YOUR CODE HERE\n",
    "MC_sim_line_plot = MC_SPY_AGG.plot_simulation()\n"
   ]
  },
  {
   "cell_type": "markdown",
   "metadata": {},
   "source": [
    "#### Step 3: Plot the probability distribution of the Monte Carlo simulation."
   ]
  },
  {
   "cell_type": "code",
   "execution_count": 53,
   "metadata": {},
   "outputs": [
    {
     "data": {
      "image/png": "[encoded data removed]",
      "text/plain": [
       "<Figure size 432x288 with 1 Axes>"
      ]
     },
     "metadata": {
      "needs_background": "light"
     },
     "output_type": "display_data"
    }
   ],
   "source": [
    "# Visualize the probability distribution of the 30-year Monte Carlo simulation \n",
    "# by plotting a histogram\n",
    "MC_sim_dist_plot = MC_SPY_AGG.plot_distribution()\n"
   ]
  },
  {
   "cell_type": "markdown",
   "metadata": {},
   "source": [
    "#### Step 4: Generate the summary statistics for the Monte Carlo simulation."
   ]
  },
  {
   "cell_type": "code",
   "execution_count": 55,
   "metadata": {},
   "outputs": [
    {
     "name": "stdout",
     "output_type": "stream",
     "text": [
      "count             500.000000\n",
      "mean             2672.673121\n",
      "std              2212.107742\n",
      "min               326.891281\n",
      "25%              1369.016567\n",
      "50%              2134.040570\n",
      "75%              3332.154950\n",
      "max             29053.966121\n",
      "95% CI Lower      618.949884\n",
      "95% CI Upper     7724.893709\n",
      "Name: 7560, dtype: float64\n"
     ]
    }
   ],
   "source": [
    "# Generate summary statistics from the 30-year Monte Carlo simulation results\n",
    "# Save the results as a variable\n",
    "MC_summary_statistics = MC_SPY_AGG.summarize_cumulative_return()\n",
    "\n",
    "\n",
    "# Review the 30-year Monte Carlo summary statistics\n",
    "print(MC_summary_statistics)"
   ]
  },
  {
   "cell_type": "markdown",
   "metadata": {},
   "source": [
    "### Analyze the Retirement Portfolio Forecasts\n",
    "\n",
    "Using the current value of only the stock and bond portion of the member's portfolio and the summary statistics that you generated from the Monte Carlo simulation, answer the following question in your Jupyter notebook:\n",
    "\n",
    "-  What are the lower and upper bounds for the expected value of the portfolio with a 95% confidence interval?\n"
   ]
  },
  {
   "cell_type": "code",
   "execution_count": 56,
   "metadata": {},
   "outputs": [
    {
     "data": {
      "text/plain": [
       "65894.0"
      ]
     },
     "execution_count": 56,
     "metadata": {},
     "output_type": "execute_result"
    }
   ],
   "source": [
    "# Print the current balance of the stock and bond portion of the members portfolio\n",
    "total_stocks_bonds\n"
   ]
  },
  {
   "cell_type": "code",
   "execution_count": 60,
   "metadata": {},
   "outputs": [
    {
     "name": "stdout",
     "output_type": "stream",
     "text": [
      "There is a 95% chance that the current portfolio of ST+B in the portfolio over the next 30 years will end within in the range of $ 40785083.67 and $ 509024146.04.\n"
     ]
    }
   ],
   "source": [
    "# Use the lower and upper `95%` confidence intervals to calculate the range of the possible outcomes for the current stock/bond portfolio\n",
    "ci_low_cumulative_return = MC_summary_statistics[8] * total_stocks_bonds\n",
    "ci_up__cumulative_return = MC_summary_statistics[9] * total_stocks_bonds\n",
    "\n",
    "\n",
    "# Print the result of your calculations\n",
    "print(f\"There is a 95% chance that the current portfolio of ST+B in the portfolio\"\n",
    "    f\" over the next 30 years will end within in the range of\"\n",
    "    f\" ${ci_low_cumulative_return: .2f} and ${ci_up__cumulative_return: .2f}.\")\n"
   ]
  },
  {
   "cell_type": "markdown",
   "metadata": {},
   "source": [
    "### Forecast Cumulative Returns in 10 Years\n",
    "\n",
    "The CTO of the credit union is impressed with your work on these planning tools but wonders if 30 years is a long time to wait until retirement. So, your next task is to adjust the retirement portfolio and run a new Monte Carlo simulation to find out if the changes will allow members to retire earlier.\n",
    "\n",
    "For this new Monte Carlo simulation, do the following: \n",
    "\n",
    "- Forecast the cumulative returns for 10 years from now. Because of the shortened investment horizon (30 years to 10 years), the portfolio needs to invest more heavily in the riskier asset&mdash;that is, stock&mdash;to help accumulate wealth for retirement. \n",
    "\n",
    "- Adjust the weights of the retirement portfolio so that the composition for the Monte Carlo simulation consists of 20% bonds and 80% stocks. \n",
    "\n",
    "- Run the simulation over 500 samples, and use the same data that the API call to Alpaca generated.\n",
    "\n",
    "- Based on the new Monte Carlo simulation, answer the following questions in your Jupyter notebook:\n",
    "\n",
    "    - Using the current value of only the stock and bond portion of the member's portfolio and the summary statistics that you generated from the new Monte Carlo simulation, what are the lower and upper bounds for the expected value of the portfolio (with the new weights) with a 95% confidence interval?\n",
    "\n",
    "    - Will weighting the portfolio more heavily toward stocks allow the credit union members to retire after only 10 years?\n"
   ]
  },
  {
   "cell_type": "code",
   "execution_count": 62,
   "metadata": {},
   "outputs": [
    {
     "data": {
      "text/html": [
       "<div>\n",
       "<style scoped>\n",
       "    .dataframe tbody tr th:only-of-type {\n",
       "        vertical-align: middle;\n",
       "    }\n",
       "\n",
       "    .dataframe tbody tr th {\n",
       "        vertical-align: top;\n",
       "    }\n",
       "\n",
       "    .dataframe thead tr th {\n",
       "        text-align: left;\n",
       "    }\n",
       "\n",
       "    .dataframe thead tr:last-of-type th {\n",
       "        text-align: right;\n",
       "    }\n",
       "</style>\n",
       "<table border=\"1\" class=\"dataframe\">\n",
       "  <thead>\n",
       "    <tr>\n",
       "      <th></th>\n",
       "      <th colspan=\"6\" halign=\"left\">AGG</th>\n",
       "      <th colspan=\"6\" halign=\"left\">SPY</th>\n",
       "    </tr>\n",
       "    <tr>\n",
       "      <th></th>\n",
       "      <th>open</th>\n",
       "      <th>high</th>\n",
       "      <th>low</th>\n",
       "      <th>close</th>\n",
       "      <th>volume</th>\n",
       "      <th>daily_return</th>\n",
       "      <th>open</th>\n",
       "      <th>high</th>\n",
       "      <th>low</th>\n",
       "      <th>close</th>\n",
       "      <th>volume</th>\n",
       "      <th>daily_return</th>\n",
       "    </tr>\n",
       "    <tr>\n",
       "      <th>timestamp</th>\n",
       "      <th></th>\n",
       "      <th></th>\n",
       "      <th></th>\n",
       "      <th></th>\n",
       "      <th></th>\n",
       "      <th></th>\n",
       "      <th></th>\n",
       "      <th></th>\n",
       "      <th></th>\n",
       "      <th></th>\n",
       "      <th></th>\n",
       "      <th></th>\n",
       "    </tr>\n",
       "  </thead>\n",
       "  <tbody>\n",
       "    <tr>\n",
       "      <th>2020-04-07 04:00:00+00:00</th>\n",
       "      <td>115.61</td>\n",
       "      <td>115.74</td>\n",
       "      <td>115.3600</td>\n",
       "      <td>115.70</td>\n",
       "      <td>7743944</td>\n",
       "      <td>NaN</td>\n",
       "      <td>274.30</td>\n",
       "      <td>275.03</td>\n",
       "      <td>264.8900</td>\n",
       "      <td>265.13</td>\n",
       "      <td>201450339</td>\n",
       "      <td>NaN</td>\n",
       "    </tr>\n",
       "    <tr>\n",
       "      <th>2020-04-08 04:00:00+00:00</th>\n",
       "      <td>115.70</td>\n",
       "      <td>115.97</td>\n",
       "      <td>115.5500</td>\n",
       "      <td>115.81</td>\n",
       "      <td>4674198</td>\n",
       "      <td>0.000951</td>\n",
       "      <td>268.05</td>\n",
       "      <td>276.00</td>\n",
       "      <td>265.2542</td>\n",
       "      <td>274.03</td>\n",
       "      <td>153774685</td>\n",
       "      <td>0.033568</td>\n",
       "    </tr>\n",
       "    <tr>\n",
       "      <th>2020-04-09 04:00:00+00:00</th>\n",
       "      <td>116.50</td>\n",
       "      <td>117.25</td>\n",
       "      <td>116.1700</td>\n",
       "      <td>117.25</td>\n",
       "      <td>5584110</td>\n",
       "      <td>0.012434</td>\n",
       "      <td>277.81</td>\n",
       "      <td>281.20</td>\n",
       "      <td>275.4700</td>\n",
       "      <td>278.20</td>\n",
       "      <td>190283195</td>\n",
       "      <td>0.015217</td>\n",
       "    </tr>\n",
       "    <tr>\n",
       "      <th>2020-04-13 04:00:00+00:00</th>\n",
       "      <td>117.09</td>\n",
       "      <td>117.17</td>\n",
       "      <td>116.5308</td>\n",
       "      <td>116.70</td>\n",
       "      <td>5738262</td>\n",
       "      <td>-0.004691</td>\n",
       "      <td>277.15</td>\n",
       "      <td>277.51</td>\n",
       "      <td>271.4100</td>\n",
       "      <td>275.66</td>\n",
       "      <td>115005853</td>\n",
       "      <td>-0.009130</td>\n",
       "    </tr>\n",
       "    <tr>\n",
       "      <th>2020-04-14 04:00:00+00:00</th>\n",
       "      <td>116.99</td>\n",
       "      <td>117.00</td>\n",
       "      <td>116.5850</td>\n",
       "      <td>116.76</td>\n",
       "      <td>5506798</td>\n",
       "      <td>0.000514</td>\n",
       "      <td>281.08</td>\n",
       "      <td>284.90</td>\n",
       "      <td>275.5106</td>\n",
       "      <td>283.79</td>\n",
       "      <td>134143482</td>\n",
       "      <td>0.029493</td>\n",
       "    </tr>\n",
       "  </tbody>\n",
       "</table>\n",
       "</div>"
      ],
      "text/plain": [
       "                              AGG                                     \\\n",
       "                             open    high       low   close   volume   \n",
       "timestamp                                                              \n",
       "2020-04-07 04:00:00+00:00  115.61  115.74  115.3600  115.70  7743944   \n",
       "2020-04-08 04:00:00+00:00  115.70  115.97  115.5500  115.81  4674198   \n",
       "2020-04-09 04:00:00+00:00  116.50  117.25  116.1700  117.25  5584110   \n",
       "2020-04-13 04:00:00+00:00  117.09  117.17  116.5308  116.70  5738262   \n",
       "2020-04-14 04:00:00+00:00  116.99  117.00  116.5850  116.76  5506798   \n",
       "\n",
       "                                           SPY                            \\\n",
       "                          daily_return    open    high       low   close   \n",
       "timestamp                                                                  \n",
       "2020-04-07 04:00:00+00:00          NaN  274.30  275.03  264.8900  265.13   \n",
       "2020-04-08 04:00:00+00:00     0.000951  268.05  276.00  265.2542  274.03   \n",
       "2020-04-09 04:00:00+00:00     0.012434  277.81  281.20  275.4700  278.20   \n",
       "2020-04-13 04:00:00+00:00    -0.004691  277.15  277.51  271.4100  275.66   \n",
       "2020-04-14 04:00:00+00:00     0.000514  281.08  284.90  275.5106  283.79   \n",
       "\n",
       "                                                   \n",
       "                              volume daily_return  \n",
       "timestamp                                          \n",
       "2020-04-07 04:00:00+00:00  201450339          NaN  \n",
       "2020-04-08 04:00:00+00:00  153774685     0.033568  \n",
       "2020-04-09 04:00:00+00:00  190283195     0.015217  \n",
       "2020-04-13 04:00:00+00:00  115005853    -0.009130  \n",
       "2020-04-14 04:00:00+00:00  134143482     0.029493  "
      ]
     },
     "execution_count": 62,
     "metadata": {},
     "output_type": "execute_result"
    }
   ],
   "source": [
    "# Configure a Monte Carlo simulation to forecast 10 years cumulative returns\n",
    "# The weights should be split 20% to AGG and 80% to SPY.\n",
    "# Run 500 samples.\n",
    "# YOUR CODE HERE\n",
    "MC_SPY_AGG_ten = MCSimulation(\n",
    "    portfolio_data = mc_df,\n",
    "    weights = [.20, .80],\n",
    "    num_simulation = 500,\n",
    "    num_trading_days = 252*10\n",
    ")\n",
    "\n",
    "# Review the simulation input data\n",
    "# YOUR CODE HERE\n",
    "MC_SPY_AGG_ten.portfolio_data.head()\n",
    "# Review the simulation input data\n",
    "# YOUR CODE HERE\n"
   ]
  },
  {
   "cell_type": "code",
   "execution_count": 63,
   "metadata": {},
   "outputs": [
    {
     "name": "stdout",
     "output_type": "stream",
     "text": [
      "Running Monte Carlo simulation number 0.\n",
      "Running Monte Carlo simulation number 10.\n",
      "Running Monte Carlo simulation number 20.\n",
      "Running Monte Carlo simulation number 30.\n",
      "Running Monte Carlo simulation number 40.\n",
      "Running Monte Carlo simulation number 50.\n",
      "Running Monte Carlo simulation number 60.\n",
      "Running Monte Carlo simulation number 70.\n",
      "Running Monte Carlo simulation number 80.\n",
      "Running Monte Carlo simulation number 90.\n",
      "Running Monte Carlo simulation number 100.\n"
     ]
    },
    {
     "name": "stderr",
     "output_type": "stream",
     "text": [
      "/Users/carlosguerra/Desktop/CH5/MCForecastTools.py:117: PerformanceWarning: DataFrame is highly fragmented.  This is usually the result of calling `frame.insert` many times, which has poor performance.  Consider joining all columns at once using pd.concat(axis=1) instead.  To get a de-fragmented frame, use `newframe = frame.copy()`\n",
      "  portfolio_cumulative_returns[n] = (1 + sim_df.fillna(0)).cumprod()\n"
     ]
    },
    {
     "name": "stdout",
     "output_type": "stream",
     "text": [
      "Running Monte Carlo simulation number 110.\n",
      "Running Monte Carlo simulation number 120.\n",
      "Running Monte Carlo simulation number 130.\n",
      "Running Monte Carlo simulation number 140.\n",
      "Running Monte Carlo simulation number 150.\n",
      "Running Monte Carlo simulation number 160.\n",
      "Running Monte Carlo simulation number 170.\n",
      "Running Monte Carlo simulation number 180.\n",
      "Running Monte Carlo simulation number 190.\n",
      "Running Monte Carlo simulation number 200.\n",
      "Running Monte Carlo simulation number 210.\n",
      "Running Monte Carlo simulation number 220.\n",
      "Running Monte Carlo simulation number 230.\n",
      "Running Monte Carlo simulation number 240.\n",
      "Running Monte Carlo simulation number 250.\n",
      "Running Monte Carlo simulation number 260.\n",
      "Running Monte Carlo simulation number 270.\n",
      "Running Monte Carlo simulation number 280.\n",
      "Running Monte Carlo simulation number 290.\n",
      "Running Monte Carlo simulation number 300.\n",
      "Running Monte Carlo simulation number 310.\n",
      "Running Monte Carlo simulation number 320.\n",
      "Running Monte Carlo simulation number 330.\n",
      "Running Monte Carlo simulation number 340.\n",
      "Running Monte Carlo simulation number 350.\n",
      "Running Monte Carlo simulation number 360.\n",
      "Running Monte Carlo simulation number 370.\n",
      "Running Monte Carlo simulation number 380.\n",
      "Running Monte Carlo simulation number 390.\n",
      "Running Monte Carlo simulation number 400.\n",
      "Running Monte Carlo simulation number 410.\n",
      "Running Monte Carlo simulation number 420.\n",
      "Running Monte Carlo simulation number 430.\n",
      "Running Monte Carlo simulation number 440.\n",
      "Running Monte Carlo simulation number 450.\n",
      "Running Monte Carlo simulation number 460.\n",
      "Running Monte Carlo simulation number 470.\n",
      "Running Monte Carlo simulation number 480.\n",
      "Running Monte Carlo simulation number 490.\n"
     ]
    },
    {
     "data": {
      "text/html": [
       "<div>\n",
       "<style scoped>\n",
       "    .dataframe tbody tr th:only-of-type {\n",
       "        vertical-align: middle;\n",
       "    }\n",
       "\n",
       "    .dataframe tbody tr th {\n",
       "        vertical-align: top;\n",
       "    }\n",
       "\n",
       "    .dataframe thead th {\n",
       "        text-align: right;\n",
       "    }\n",
       "</style>\n",
       "<table border=\"1\" class=\"dataframe\">\n",
       "  <thead>\n",
       "    <tr style=\"text-align: right;\">\n",
       "      <th></th>\n",
       "      <th>0</th>\n",
       "      <th>1</th>\n",
       "      <th>2</th>\n",
       "      <th>3</th>\n",
       "      <th>4</th>\n",
       "      <th>5</th>\n",
       "      <th>6</th>\n",
       "      <th>7</th>\n",
       "      <th>8</th>\n",
       "      <th>9</th>\n",
       "      <th>...</th>\n",
       "      <th>490</th>\n",
       "      <th>491</th>\n",
       "      <th>492</th>\n",
       "      <th>493</th>\n",
       "      <th>494</th>\n",
       "      <th>495</th>\n",
       "      <th>496</th>\n",
       "      <th>497</th>\n",
       "      <th>498</th>\n",
       "      <th>499</th>\n",
       "    </tr>\n",
       "  </thead>\n",
       "  <tbody>\n",
       "    <tr>\n",
       "      <th>0</th>\n",
       "      <td>1.000000</td>\n",
       "      <td>1.000000</td>\n",
       "      <td>1.000000</td>\n",
       "      <td>1.000000</td>\n",
       "      <td>1.000000</td>\n",
       "      <td>1.000000</td>\n",
       "      <td>1.000000</td>\n",
       "      <td>1.000000</td>\n",
       "      <td>1.000000</td>\n",
       "      <td>1.000000</td>\n",
       "      <td>...</td>\n",
       "      <td>1.000000</td>\n",
       "      <td>1.000000</td>\n",
       "      <td>1.000000</td>\n",
       "      <td>1.000000</td>\n",
       "      <td>1.000000</td>\n",
       "      <td>1.000000</td>\n",
       "      <td>1.000000</td>\n",
       "      <td>1.000000</td>\n",
       "      <td>1.000000</td>\n",
       "      <td>1.000000</td>\n",
       "    </tr>\n",
       "    <tr>\n",
       "      <th>1</th>\n",
       "      <td>1.017413</td>\n",
       "      <td>1.002146</td>\n",
       "      <td>0.988592</td>\n",
       "      <td>1.004459</td>\n",
       "      <td>0.985423</td>\n",
       "      <td>0.997740</td>\n",
       "      <td>1.008375</td>\n",
       "      <td>1.012157</td>\n",
       "      <td>1.009862</td>\n",
       "      <td>0.996492</td>\n",
       "      <td>...</td>\n",
       "      <td>1.005686</td>\n",
       "      <td>0.986930</td>\n",
       "      <td>0.996749</td>\n",
       "      <td>0.989253</td>\n",
       "      <td>1.012729</td>\n",
       "      <td>0.983042</td>\n",
       "      <td>0.997515</td>\n",
       "      <td>0.992583</td>\n",
       "      <td>1.006846</td>\n",
       "      <td>0.994385</td>\n",
       "    </tr>\n",
       "    <tr>\n",
       "      <th>2</th>\n",
       "      <td>1.052487</td>\n",
       "      <td>0.989676</td>\n",
       "      <td>0.987868</td>\n",
       "      <td>0.999119</td>\n",
       "      <td>0.996308</td>\n",
       "      <td>1.000325</td>\n",
       "      <td>1.017883</td>\n",
       "      <td>1.014063</td>\n",
       "      <td>1.022045</td>\n",
       "      <td>0.982856</td>\n",
       "      <td>...</td>\n",
       "      <td>1.017067</td>\n",
       "      <td>0.973237</td>\n",
       "      <td>0.987488</td>\n",
       "      <td>0.986497</td>\n",
       "      <td>1.007911</td>\n",
       "      <td>0.991759</td>\n",
       "      <td>1.010462</td>\n",
       "      <td>0.990949</td>\n",
       "      <td>1.003318</td>\n",
       "      <td>0.998750</td>\n",
       "    </tr>\n",
       "    <tr>\n",
       "      <th>3</th>\n",
       "      <td>1.049008</td>\n",
       "      <td>0.987174</td>\n",
       "      <td>0.987459</td>\n",
       "      <td>0.993219</td>\n",
       "      <td>1.004046</td>\n",
       "      <td>0.992837</td>\n",
       "      <td>1.009934</td>\n",
       "      <td>1.007477</td>\n",
       "      <td>1.025829</td>\n",
       "      <td>0.982945</td>\n",
       "      <td>...</td>\n",
       "      <td>1.018674</td>\n",
       "      <td>0.965256</td>\n",
       "      <td>0.984094</td>\n",
       "      <td>0.991815</td>\n",
       "      <td>1.015482</td>\n",
       "      <td>0.982878</td>\n",
       "      <td>1.010202</td>\n",
       "      <td>0.996090</td>\n",
       "      <td>0.998131</td>\n",
       "      <td>1.018626</td>\n",
       "    </tr>\n",
       "    <tr>\n",
       "      <th>4</th>\n",
       "      <td>1.040520</td>\n",
       "      <td>0.984227</td>\n",
       "      <td>1.001044</td>\n",
       "      <td>0.983315</td>\n",
       "      <td>1.013453</td>\n",
       "      <td>0.998301</td>\n",
       "      <td>1.025484</td>\n",
       "      <td>1.019345</td>\n",
       "      <td>1.019194</td>\n",
       "      <td>0.995048</td>\n",
       "      <td>...</td>\n",
       "      <td>1.043555</td>\n",
       "      <td>0.972919</td>\n",
       "      <td>0.992725</td>\n",
       "      <td>0.978091</td>\n",
       "      <td>1.028792</td>\n",
       "      <td>0.973187</td>\n",
       "      <td>1.001709</td>\n",
       "      <td>1.003108</td>\n",
       "      <td>1.016329</td>\n",
       "      <td>1.017067</td>\n",
       "    </tr>\n",
       "    <tr>\n",
       "      <th>...</th>\n",
       "      <td>...</td>\n",
       "      <td>...</td>\n",
       "      <td>...</td>\n",
       "      <td>...</td>\n",
       "      <td>...</td>\n",
       "      <td>...</td>\n",
       "      <td>...</td>\n",
       "      <td>...</td>\n",
       "      <td>...</td>\n",
       "      <td>...</td>\n",
       "      <td>...</td>\n",
       "      <td>...</td>\n",
       "      <td>...</td>\n",
       "      <td>...</td>\n",
       "      <td>...</td>\n",
       "      <td>...</td>\n",
       "      <td>...</td>\n",
       "      <td>...</td>\n",
       "      <td>...</td>\n",
       "      <td>...</td>\n",
       "      <td>...</td>\n",
       "    </tr>\n",
       "    <tr>\n",
       "      <th>2516</th>\n",
       "      <td>27.836370</td>\n",
       "      <td>57.896989</td>\n",
       "      <td>92.461477</td>\n",
       "      <td>38.242153</td>\n",
       "      <td>34.393945</td>\n",
       "      <td>14.788095</td>\n",
       "      <td>72.905157</td>\n",
       "      <td>30.853853</td>\n",
       "      <td>21.671124</td>\n",
       "      <td>24.225129</td>\n",
       "      <td>...</td>\n",
       "      <td>39.830995</td>\n",
       "      <td>23.844347</td>\n",
       "      <td>23.394747</td>\n",
       "      <td>33.667799</td>\n",
       "      <td>29.345225</td>\n",
       "      <td>19.852441</td>\n",
       "      <td>17.125367</td>\n",
       "      <td>27.747503</td>\n",
       "      <td>16.323316</td>\n",
       "      <td>50.808713</td>\n",
       "    </tr>\n",
       "    <tr>\n",
       "      <th>2517</th>\n",
       "      <td>28.004875</td>\n",
       "      <td>56.706044</td>\n",
       "      <td>92.084466</td>\n",
       "      <td>38.040505</td>\n",
       "      <td>34.241707</td>\n",
       "      <td>14.674299</td>\n",
       "      <td>72.780326</td>\n",
       "      <td>30.819260</td>\n",
       "      <td>21.551223</td>\n",
       "      <td>24.512424</td>\n",
       "      <td>...</td>\n",
       "      <td>40.043559</td>\n",
       "      <td>23.865951</td>\n",
       "      <td>23.217183</td>\n",
       "      <td>33.549805</td>\n",
       "      <td>29.222443</td>\n",
       "      <td>19.638509</td>\n",
       "      <td>16.946917</td>\n",
       "      <td>27.835723</td>\n",
       "      <td>16.420361</td>\n",
       "      <td>50.845083</td>\n",
       "    </tr>\n",
       "    <tr>\n",
       "      <th>2518</th>\n",
       "      <td>28.129031</td>\n",
       "      <td>56.886332</td>\n",
       "      <td>91.338813</td>\n",
       "      <td>38.656545</td>\n",
       "      <td>34.244135</td>\n",
       "      <td>14.509813</td>\n",
       "      <td>71.815785</td>\n",
       "      <td>31.079242</td>\n",
       "      <td>21.560626</td>\n",
       "      <td>24.389161</td>\n",
       "      <td>...</td>\n",
       "      <td>39.643868</td>\n",
       "      <td>24.057071</td>\n",
       "      <td>22.921538</td>\n",
       "      <td>33.152499</td>\n",
       "      <td>29.120195</td>\n",
       "      <td>19.773756</td>\n",
       "      <td>16.771070</td>\n",
       "      <td>27.207783</td>\n",
       "      <td>16.635059</td>\n",
       "      <td>50.756551</td>\n",
       "    </tr>\n",
       "    <tr>\n",
       "      <th>2519</th>\n",
       "      <td>28.311232</td>\n",
       "      <td>56.755075</td>\n",
       "      <td>89.699628</td>\n",
       "      <td>38.871060</td>\n",
       "      <td>34.114522</td>\n",
       "      <td>14.579281</td>\n",
       "      <td>71.158593</td>\n",
       "      <td>31.343160</td>\n",
       "      <td>21.758389</td>\n",
       "      <td>24.441218</td>\n",
       "      <td>...</td>\n",
       "      <td>39.398569</td>\n",
       "      <td>24.320718</td>\n",
       "      <td>23.066250</td>\n",
       "      <td>32.941415</td>\n",
       "      <td>28.639168</td>\n",
       "      <td>19.707590</td>\n",
       "      <td>16.579127</td>\n",
       "      <td>27.715681</td>\n",
       "      <td>16.579444</td>\n",
       "      <td>51.174967</td>\n",
       "    </tr>\n",
       "    <tr>\n",
       "      <th>2520</th>\n",
       "      <td>28.364068</td>\n",
       "      <td>57.193767</td>\n",
       "      <td>88.719185</td>\n",
       "      <td>39.224110</td>\n",
       "      <td>34.497869</td>\n",
       "      <td>14.726931</td>\n",
       "      <td>71.197983</td>\n",
       "      <td>31.021703</td>\n",
       "      <td>21.762887</td>\n",
       "      <td>24.479085</td>\n",
       "      <td>...</td>\n",
       "      <td>39.391326</td>\n",
       "      <td>24.539281</td>\n",
       "      <td>23.142697</td>\n",
       "      <td>33.093651</td>\n",
       "      <td>29.100140</td>\n",
       "      <td>19.796185</td>\n",
       "      <td>16.695663</td>\n",
       "      <td>27.710366</td>\n",
       "      <td>16.851710</td>\n",
       "      <td>51.528831</td>\n",
       "    </tr>\n",
       "  </tbody>\n",
       "</table>\n",
       "<p>2521 rows × 500 columns</p>\n",
       "</div>"
      ],
      "text/plain": [
       "            0          1          2          3          4          5    \\\n",
       "0      1.000000   1.000000   1.000000   1.000000   1.000000   1.000000   \n",
       "1      1.017413   1.002146   0.988592   1.004459   0.985423   0.997740   \n",
       "2      1.052487   0.989676   0.987868   0.999119   0.996308   1.000325   \n",
       "3      1.049008   0.987174   0.987459   0.993219   1.004046   0.992837   \n",
       "4      1.040520   0.984227   1.001044   0.983315   1.013453   0.998301   \n",
       "...         ...        ...        ...        ...        ...        ...   \n",
       "2516  27.836370  57.896989  92.461477  38.242153  34.393945  14.788095   \n",
       "2517  28.004875  56.706044  92.084466  38.040505  34.241707  14.674299   \n",
       "2518  28.129031  56.886332  91.338813  38.656545  34.244135  14.509813   \n",
       "2519  28.311232  56.755075  89.699628  38.871060  34.114522  14.579281   \n",
       "2520  28.364068  57.193767  88.719185  39.224110  34.497869  14.726931   \n",
       "\n",
       "            6          7          8          9    ...        490        491  \\\n",
       "0      1.000000   1.000000   1.000000   1.000000  ...   1.000000   1.000000   \n",
       "1      1.008375   1.012157   1.009862   0.996492  ...   1.005686   0.986930   \n",
       "2      1.017883   1.014063   1.022045   0.982856  ...   1.017067   0.973237   \n",
       "3      1.009934   1.007477   1.025829   0.982945  ...   1.018674   0.965256   \n",
       "4      1.025484   1.019345   1.019194   0.995048  ...   1.043555   0.972919   \n",
       "...         ...        ...        ...        ...  ...        ...        ...   \n",
       "2516  72.905157  30.853853  21.671124  24.225129  ...  39.830995  23.844347   \n",
       "2517  72.780326  30.819260  21.551223  24.512424  ...  40.043559  23.865951   \n",
       "2518  71.815785  31.079242  21.560626  24.389161  ...  39.643868  24.057071   \n",
       "2519  71.158593  31.343160  21.758389  24.441218  ...  39.398569  24.320718   \n",
       "2520  71.197983  31.021703  21.762887  24.479085  ...  39.391326  24.539281   \n",
       "\n",
       "            492        493        494        495        496        497  \\\n",
       "0      1.000000   1.000000   1.000000   1.000000   1.000000   1.000000   \n",
       "1      0.996749   0.989253   1.012729   0.983042   0.997515   0.992583   \n",
       "2      0.987488   0.986497   1.007911   0.991759   1.010462   0.990949   \n",
       "3      0.984094   0.991815   1.015482   0.982878   1.010202   0.996090   \n",
       "4      0.992725   0.978091   1.028792   0.973187   1.001709   1.003108   \n",
       "...         ...        ...        ...        ...        ...        ...   \n",
       "2516  23.394747  33.667799  29.345225  19.852441  17.125367  27.747503   \n",
       "2517  23.217183  33.549805  29.222443  19.638509  16.946917  27.835723   \n",
       "2518  22.921538  33.152499  29.120195  19.773756  16.771070  27.207783   \n",
       "2519  23.066250  32.941415  28.639168  19.707590  16.579127  27.715681   \n",
       "2520  23.142697  33.093651  29.100140  19.796185  16.695663  27.710366   \n",
       "\n",
       "            498        499  \n",
       "0      1.000000   1.000000  \n",
       "1      1.006846   0.994385  \n",
       "2      1.003318   0.998750  \n",
       "3      0.998131   1.018626  \n",
       "4      1.016329   1.017067  \n",
       "...         ...        ...  \n",
       "2516  16.323316  50.808713  \n",
       "2517  16.420361  50.845083  \n",
       "2518  16.635059  50.756551  \n",
       "2519  16.579444  51.174967  \n",
       "2520  16.851710  51.528831  \n",
       "\n",
       "[2521 rows x 500 columns]"
      ]
     },
     "execution_count": 63,
     "metadata": {},
     "output_type": "execute_result"
    }
   ],
   "source": [
    "# Run the Monte Carlo simulation to forecast 10 years cumulative returns\n",
    "# YOUR CODE HERE\n",
    "MC_SPY_AGG_ten.calc_cumulative_return()"
   ]
  },
  {
   "cell_type": "code",
   "execution_count": 64,
   "metadata": {},
   "outputs": [
    {
     "data": {
      "image/png": "[encoded data removed]",
      "text/plain": [
       "<Figure size 432x288 with 1 Axes>"
      ]
     },
     "metadata": {
      "needs_background": "light"
     },
     "output_type": "display_data"
    }
   ],
   "source": [
    "# Visualize the 10-year Monte Carlo simulation by creating an\n",
    "# overlay line plot\n",
    "# YOUR CODE HERE\n",
    "MC_sim_line_plot = MC_SPY_AGG_ten.plot_simulation()"
   ]
  },
  {
   "cell_type": "code",
   "execution_count": 65,
   "metadata": {},
   "outputs": [
    {
     "data": {
      "image/png": "[encoded data removed]",
      "text/plain": [
       "<Figure size 432x288 with 1 Axes>"
      ]
     },
     "metadata": {
      "needs_background": "light"
     },
     "output_type": "display_data"
    }
   ],
   "source": [
    "# Visualize the probability distribution of the 10-year Monte Carlo simulation \n",
    "# by plotting a histogram\n",
    "MC_sim_dist_plot = MC_SPY_AGG_ten.plot_distribution()\n"
   ]
  },
  {
   "cell_type": "code",
   "execution_count": 66,
   "metadata": {},
   "outputs": [
    {
     "name": "stdout",
     "output_type": "stream",
     "text": [
      "count           500.000000\n",
      "mean             35.135539\n",
      "std              19.191747\n",
      "min               7.307225\n",
      "25%              22.179028\n",
      "50%              30.254934\n",
      "75%              43.499845\n",
      "max             138.660435\n",
      "95% CI Lower     10.752765\n",
      "95% CI Upper     88.013850\n",
      "Name: 2520, dtype: float64\n"
     ]
    }
   ],
   "source": [
    "# Generate summary statistics from the 10-year Monte Carlo simulation results\n",
    "# Save the results as a variable\n",
    "# YOUR CODE HERE\n",
    "\n",
    "MC_summary_statistics = MC_SPY_AGG_ten.summarize_cumulative_return()\n",
    "\n",
    "\n",
    "\n",
    "print(MC_summary_statistics)\n",
    "# Review the 10-year Monte Carlo summary statistics\n",
    "# YOUR CODE HERE"
   ]
  },
  {
   "cell_type": "markdown",
   "metadata": {},
   "source": [
    "### Answer the following questions:"
   ]
  },
  {
   "cell_type": "markdown",
   "metadata": {},
   "source": [
    "#### Question: Using the current value of only the stock and bond portion of the member's portfolio and the summary statistics that you generated from the new Monte Carlo simulation, what are the lower and upper bounds for the expected value of the portfolio (with the new weights) with a 95% confidence interval?"
   ]
  },
  {
   "cell_type": "code",
   "execution_count": 67,
   "metadata": {},
   "outputs": [
    {
     "data": {
      "text/plain": [
       "65894.0"
      ]
     },
     "execution_count": 67,
     "metadata": {},
     "output_type": "execute_result"
    }
   ],
   "source": [
    "# Print the current balance of the stock and bond portion of the members portfolio\n",
    "total_stocks_bonds\n"
   ]
  },
  {
   "cell_type": "code",
   "execution_count": 75,
   "metadata": {},
   "outputs": [
    {
     "name": "stdout",
     "output_type": "stream",
     "text": [
      "There is a 95% chance that the current portfolio of ST+B in the portfolio over the next 10 years will end within in the range of $ 708542.69 and $ 5799584.60.\n"
     ]
    }
   ],
   "source": [
    "# Use the lower and upper `95%` confidence intervals to calculate the range of the possible outcomes for the current stock/bond portfolio\n",
    "ci_lower_ten_cumulative_return = MC_summary_statistics[8] * total_stocks_bonds\n",
    "ci_upper_ten_cumulative_return = MC_summary_statistics[9] * total_stocks_bonds\n",
    "\n",
    "\n",
    "\n",
    "# Print the result of your calculations\n",
    "print(f\"There is a 95% chance that the current portfolio of ST+B in the portfolio\"\n",
    "    f\" over the next 10 years will end within in the range of\"\n",
    "    f\" ${ci_lower_ten_cumulative_return: .2f} and ${ci_upper_ten_cumulative_return: .2f}.\")\n"
   ]
  },
  {
   "cell_type": "markdown",
   "metadata": {},
   "source": [
    "#### Question: Will weighting the portfolio more heavily to stocks allow the credit union members to retire after only 10 years? \n",
    "#In the best scenario yes but the risk of making less is true as well in the worst case"
   ]
  },
  {
   "cell_type": "raw",
   "metadata": {},
   "source": []
  }
 ],
 "metadata": {
  "kernelspec": {
   "display_name": "Python 3 (ipykernel)",
   "language": "python",
   "name": "python3"
  },
  "language_info": {
   "codemirror_mode": {
    "name": "ipython",
    "version": 3
   },
   "file_extension": ".py",
   "mimetype": "text/x-python",
   "name": "python",
   "nbconvert_exporter": "python",
   "pygments_lexer": "ipython3",
   "version": "3.7.11"
  }
 },
 "nbformat": 4,
 "nbformat_minor": 4
}
